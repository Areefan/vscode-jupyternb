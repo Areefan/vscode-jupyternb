{
 "cells": [
  {
   "cell_type": "markdown",
   "metadata": {},
   "source": [
    "396. นายอารีฟัน หมะหมูด สำนักงานสาธารณสุขจังหวัดนราธิวาส"
   ]
  },
  {
   "cell_type": "code",
   "execution_count": null,
   "metadata": {},
   "outputs": [],
   "source": [
    "import pymysql\n",
    "import pandas as pd"
   ]
  },
  {
   "cell_type": "code",
   "execution_count": null,
   "metadata": {},
   "outputs": [],
   "source": [
    "conn = pymysql.connect(\n",
    "  host = '202.44.12.115',\n",
    "  user='testuser',\n",
    "  password='P@ssw0rd',\n",
    "  db='dbuser_DB'\n",
    ")\n",
    "cur = conn.cursor()"
   ]
  },
  {
   "cell_type": "code",
   "execution_count": null,
   "metadata": {},
   "outputs": [],
   "source": [
    "cur.execute('show columns from location;')\n",
    "res_cols = cur.fetchall()\n",
    "res_cols\n",
    "std_cols = pd.DataFrame(res_cols)[0].tolist()\n",
    "std_cols"
   ]
  },
  {
   "cell_type": "code",
   "execution_count": null,
   "metadata": {},
   "outputs": [
    {
     "ename": "",
     "evalue": "",
     "output_type": "error",
     "traceback": [
      "\u001b[1;31mThe Kernel crashed while executing code in the current cell or a previous cell. \n",
      "\u001b[1;31mPlease review the code in the cell(s) to identify a possible cause of the failure. \n",
      "\u001b[1;31mClick <a href='https://aka.ms/vscodeJupyterKernelCrash'>here</a> for more info. \n",
      "\u001b[1;31mView Jupyter <a href='command:jupyter.viewOutput'>log</a> for further details."
     ]
    }
   ],
   "source": [
    "cur.execute('SELECT * FROM location WHERE province_code != 10')\n",
    "res = cur.fetchall()\n",
    "prov_isnotbkk = pd.DataFrame(\n",
    "  data = res,\n",
    "  columns = std_cols\n",
    ")\n",
    "prov_isnotbkk\n"
   ]
  }
 ],
 "metadata": {
  "kernelspec": {
   "display_name": ".venv",
   "language": "python",
   "name": "python3"
  },
  "language_info": {
   "codemirror_mode": {
    "name": "ipython",
    "version": 3
   },
   "file_extension": ".py",
   "mimetype": "text/x-python",
   "name": "python",
   "nbconvert_exporter": "python",
   "pygments_lexer": "ipython3",
   "version": "3.12.2"
  }
 },
 "nbformat": 4,
 "nbformat_minor": 2
}
