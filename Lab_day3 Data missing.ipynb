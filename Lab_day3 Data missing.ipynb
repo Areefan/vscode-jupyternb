{
 "cells": [
  {
   "cell_type": "code",
   "execution_count": 17,
   "metadata": {},
   "outputs": [],
   "source": [
    "import pandas as pd\n",
    "import matplotlib.pyplot as plt\n",
    "import seaborn as sns\n",
    "import numpy as np"
   ]
  },
  {
   "cell_type": "code",
   "execution_count": 20,
   "metadata": {},
   "outputs": [],
   "source": [
    "ncd = pd.read_csv(\"data/EDA_files/ncd_screen.csv\")"
   ]
  },
  {
   "cell_type": "markdown",
   "metadata": {},
   "source": [
    "## Check Null OR Missing"
   ]
  },
  {
   "cell_type": "code",
   "execution_count": 21,
   "metadata": {},
   "outputs": [
    {
     "data": {
      "text/plain": [
       "hospcode                False\n",
       "pid                     False\n",
       "seq                      True\n",
       "ncd_screen_date_serv    False\n",
       "servplace               False\n",
       "smoke                    True\n",
       "alcohol                  True\n",
       "dmfamily                 True\n",
       "htfamily                 True\n",
       "weight                   True\n",
       "height                  False\n",
       "waist_cm                False\n",
       "sbp_1                   False\n",
       "dbp_1                   False\n",
       "sbp_2                    True\n",
       "dbp_2                    True\n",
       "bslevel                  True\n",
       "bstest                   True\n",
       "screenplace             False\n",
       "dtype: bool"
      ]
     },
     "execution_count": 21,
     "metadata": {},
     "output_type": "execute_result"
    }
   ],
   "source": [
    "ncd.isnull().any()"
   ]
  },
  {
   "cell_type": "code",
   "execution_count": 10,
   "metadata": {},
   "outputs": [
    {
     "name": "stdout",
     "output_type": "stream",
     "text": [
      "<class 'pandas.core.frame.DataFrame'>\n",
      "RangeIndex: 6598 entries, 0 to 6597\n",
      "Data columns (total 19 columns):\n",
      " #   Column                Non-Null Count  Dtype  \n",
      "---  ------                --------------  -----  \n",
      " 0   hospcode              6598 non-null   int64  \n",
      " 1   pid                   6598 non-null   object \n",
      " 2   seq                   6549 non-null   object \n",
      " 3   ncd_screen_date_serv  6598 non-null   object \n",
      " 4   servplace             6598 non-null   int64  \n",
      " 5   smoke                 6460 non-null   float64\n",
      " 6   alcohol               6460 non-null   float64\n",
      " 7   dmfamily              6597 non-null   float64\n",
      " 8   htfamily              4971 non-null   float64\n",
      " 9   weight                6597 non-null   float64\n",
      " 10  height                6598 non-null   int64  \n",
      " 11  waist_cm              6598 non-null   int64  \n",
      " 12  sbp_1                 6598 non-null   int64  \n",
      " 13  dbp_1                 6598 non-null   int64  \n",
      " 14  sbp_2                 6543 non-null   float64\n",
      " 15  dbp_2                 6543 non-null   float64\n",
      " 16  bslevel               6306 non-null   float64\n",
      " 17  bstest                6392 non-null   float64\n",
      " 18  screenplace           6598 non-null   int64  \n",
      "dtypes: float64(9), int64(7), object(3)\n",
      "memory usage: 979.5+ KB\n"
     ]
    }
   ],
   "source": [
    "ncd.info()"
   ]
  },
  {
   "cell_type": "code",
   "execution_count": 11,
   "metadata": {},
   "outputs": [
    {
     "data": {
      "text/html": [
       "<div>\n",
       "<style scoped>\n",
       "    .dataframe tbody tr th:only-of-type {\n",
       "        vertical-align: middle;\n",
       "    }\n",
       "\n",
       "    .dataframe tbody tr th {\n",
       "        vertical-align: top;\n",
       "    }\n",
       "\n",
       "    .dataframe thead th {\n",
       "        text-align: right;\n",
       "    }\n",
       "</style>\n",
       "<table border=\"1\" class=\"dataframe\">\n",
       "  <thead>\n",
       "    <tr style=\"text-align: right;\">\n",
       "      <th></th>\n",
       "      <th>hospcode</th>\n",
       "      <th>pid</th>\n",
       "      <th>seq</th>\n",
       "      <th>ncd_screen_date_serv</th>\n",
       "      <th>servplace</th>\n",
       "      <th>smoke</th>\n",
       "      <th>alcohol</th>\n",
       "      <th>dmfamily</th>\n",
       "      <th>htfamily</th>\n",
       "      <th>weight</th>\n",
       "      <th>height</th>\n",
       "      <th>waist_cm</th>\n",
       "      <th>sbp_1</th>\n",
       "      <th>dbp_1</th>\n",
       "      <th>sbp_2</th>\n",
       "      <th>dbp_2</th>\n",
       "      <th>bslevel</th>\n",
       "      <th>bstest</th>\n",
       "      <th>screenplace</th>\n",
       "    </tr>\n",
       "  </thead>\n",
       "  <tbody>\n",
       "    <tr>\n",
       "      <th>0</th>\n",
       "      <td>11023</td>\n",
       "      <td>008765</td>\n",
       "      <td>3499362</td>\n",
       "      <td>12/2/2013</td>\n",
       "      <td>1</td>\n",
       "      <td>1.0</td>\n",
       "      <td>1.0</td>\n",
       "      <td>9.0</td>\n",
       "      <td>1.0</td>\n",
       "      <td>55.0</td>\n",
       "      <td>149</td>\n",
       "      <td>88</td>\n",
       "      <td>113</td>\n",
       "      <td>68</td>\n",
       "      <td>110.0</td>\n",
       "      <td>89.0</td>\n",
       "      <td>86.0</td>\n",
       "      <td>3.0</td>\n",
       "      <td>11023</td>\n",
       "    </tr>\n",
       "    <tr>\n",
       "      <th>1</th>\n",
       "      <td>11024</td>\n",
       "      <td>017330</td>\n",
       "      <td>1841142</td>\n",
       "      <td>12/16/2015</td>\n",
       "      <td>1</td>\n",
       "      <td>1.0</td>\n",
       "      <td>1.0</td>\n",
       "      <td>2.0</td>\n",
       "      <td>2.0</td>\n",
       "      <td>46.0</td>\n",
       "      <td>154</td>\n",
       "      <td>76</td>\n",
       "      <td>120</td>\n",
       "      <td>60</td>\n",
       "      <td>120.0</td>\n",
       "      <td>60.0</td>\n",
       "      <td>130.0</td>\n",
       "      <td>3.0</td>\n",
       "      <td>11024</td>\n",
       "    </tr>\n",
       "    <tr>\n",
       "      <th>2</th>\n",
       "      <td>12418</td>\n",
       "      <td>049945</td>\n",
       "      <td>705117</td>\n",
       "      <td>7/9/2020</td>\n",
       "      <td>1</td>\n",
       "      <td>1.0</td>\n",
       "      <td>1.0</td>\n",
       "      <td>2.0</td>\n",
       "      <td>2.0</td>\n",
       "      <td>52.0</td>\n",
       "      <td>160</td>\n",
       "      <td>74</td>\n",
       "      <td>110</td>\n",
       "      <td>59</td>\n",
       "      <td>110.0</td>\n",
       "      <td>60.0</td>\n",
       "      <td>88.0</td>\n",
       "      <td>3.0</td>\n",
       "      <td>12418</td>\n",
       "    </tr>\n",
       "    <tr>\n",
       "      <th>3</th>\n",
       "      <td>12418</td>\n",
       "      <td>055877</td>\n",
       "      <td>693664</td>\n",
       "      <td>9/1/2020</td>\n",
       "      <td>1</td>\n",
       "      <td>1.0</td>\n",
       "      <td>1.0</td>\n",
       "      <td>2.0</td>\n",
       "      <td>2.0</td>\n",
       "      <td>50.0</td>\n",
       "      <td>165</td>\n",
       "      <td>74</td>\n",
       "      <td>100</td>\n",
       "      <td>65</td>\n",
       "      <td>100.0</td>\n",
       "      <td>60.0</td>\n",
       "      <td>85.0</td>\n",
       "      <td>3.0</td>\n",
       "      <td>12418</td>\n",
       "    </tr>\n",
       "    <tr>\n",
       "      <th>4</th>\n",
       "      <td>12418</td>\n",
       "      <td>053288</td>\n",
       "      <td>705105</td>\n",
       "      <td>7/9/2020</td>\n",
       "      <td>1</td>\n",
       "      <td>1.0</td>\n",
       "      <td>1.0</td>\n",
       "      <td>2.0</td>\n",
       "      <td>2.0</td>\n",
       "      <td>56.0</td>\n",
       "      <td>160</td>\n",
       "      <td>78</td>\n",
       "      <td>110</td>\n",
       "      <td>63</td>\n",
       "      <td>110.0</td>\n",
       "      <td>63.0</td>\n",
       "      <td>85.0</td>\n",
       "      <td>3.0</td>\n",
       "      <td>12418</td>\n",
       "    </tr>\n",
       "  </tbody>\n",
       "</table>\n",
       "</div>"
      ],
      "text/plain": [
       "   hospcode     pid      seq ncd_screen_date_serv  servplace  smoke  alcohol  \\\n",
       "0     11023  008765  3499362            12/2/2013          1    1.0      1.0   \n",
       "1     11024  017330  1841142           12/16/2015          1    1.0      1.0   \n",
       "2     12418  049945   705117             7/9/2020          1    1.0      1.0   \n",
       "3     12418  055877   693664             9/1/2020          1    1.0      1.0   \n",
       "4     12418  053288   705105             7/9/2020          1    1.0      1.0   \n",
       "\n",
       "   dmfamily  htfamily  weight  height  waist_cm  sbp_1  dbp_1  sbp_2  dbp_2  \\\n",
       "0       9.0       1.0    55.0     149        88    113     68  110.0   89.0   \n",
       "1       2.0       2.0    46.0     154        76    120     60  120.0   60.0   \n",
       "2       2.0       2.0    52.0     160        74    110     59  110.0   60.0   \n",
       "3       2.0       2.0    50.0     165        74    100     65  100.0   60.0   \n",
       "4       2.0       2.0    56.0     160        78    110     63  110.0   63.0   \n",
       "\n",
       "   bslevel  bstest  screenplace  \n",
       "0     86.0     3.0        11023  \n",
       "1    130.0     3.0        11024  \n",
       "2     88.0     3.0        12418  \n",
       "3     85.0     3.0        12418  \n",
       "4     85.0     3.0        12418  "
      ]
     },
     "execution_count": 11,
     "metadata": {},
     "output_type": "execute_result"
    }
   ],
   "source": [
    "ncd.head()"
   ]
  },
  {
   "cell_type": "markdown",
   "metadata": {},
   "source": [
    "### Drop Rows"
   ]
  },
  {
   "cell_type": "code",
   "execution_count": 22,
   "metadata": {},
   "outputs": [],
   "source": [
    "# 6306 record\n",
    "ncd.dropna(subset=[\"bslevel\"], inplace =True)"
   ]
  },
  {
   "cell_type": "markdown",
   "metadata": {},
   "source": [
    "### Drop Columns"
   ]
  },
  {
   "cell_type": "code",
   "execution_count": 13,
   "metadata": {},
   "outputs": [],
   "source": [
    "ncd.drop(axis = 1, columns = [\"bslevel\"], inplace = True)"
   ]
  },
  {
   "cell_type": "markdown",
   "metadata": {},
   "source": [
    "### แทนที่ NA OR NAN"
   ]
  },
  {
   "cell_type": "code",
   "execution_count": 23,
   "metadata": {},
   "outputs": [
    {
     "name": "stderr",
     "output_type": "stream",
     "text": [
      "C:\\Users\\user\\AppData\\Local\\Temp\\ipykernel_32704\\1772892670.py:1: FutureWarning: A value is trying to be set on a copy of a DataFrame or Series through chained assignment using an inplace method.\n",
      "The behavior will change in pandas 3.0. This inplace method will never work because the intermediate object on which we are setting values always behaves as a copy.\n",
      "\n",
      "For example, when doing 'df[col].method(value, inplace=True)', try using 'df.method({col: value}, inplace=True)' or df[col] = df[col].method(value) instead, to perform the operation inplace on the original object.\n",
      "\n",
      "\n",
      "  ncd['smoke'].fillna(9, inplace=True)\n"
     ]
    }
   ],
   "source": [
    "ncd['smoke'].fillna(9, inplace=True)"
   ]
  },
  {
   "cell_type": "markdown",
   "metadata": {},
   "source": [
    "### Replace"
   ]
  },
  {
   "cell_type": "code",
   "execution_count": 24,
   "metadata": {},
   "outputs": [
    {
     "name": "stderr",
     "output_type": "stream",
     "text": [
      "C:\\Users\\user\\AppData\\Local\\Temp\\ipykernel_32704\\1358115526.py:1: FutureWarning: A value is trying to be set on a copy of a DataFrame or Series through chained assignment using an inplace method.\n",
      "The behavior will change in pandas 3.0. This inplace method will never work because the intermediate object on which we are setting values always behaves as a copy.\n",
      "\n",
      "For example, when doing 'df[col].method(value, inplace=True)', try using 'df.method({col: value}, inplace=True)' or df[col] = df[col].method(value) instead, to perform the operation inplace on the original object.\n",
      "\n",
      "\n",
      "  ncd[\"smoke\"].replace(0,9,inplace = True)\n"
     ]
    }
   ],
   "source": [
    "ncd[\"smoke\"].replace(0,9,inplace = True)"
   ]
  },
  {
   "cell_type": "code",
   "execution_count": 25,
   "metadata": {},
   "outputs": [
    {
     "data": {
      "text/html": [
       "<div>\n",
       "<style scoped>\n",
       "    .dataframe tbody tr th:only-of-type {\n",
       "        vertical-align: middle;\n",
       "    }\n",
       "\n",
       "    .dataframe tbody tr th {\n",
       "        vertical-align: top;\n",
       "    }\n",
       "\n",
       "    .dataframe thead th {\n",
       "        text-align: right;\n",
       "    }\n",
       "</style>\n",
       "<table border=\"1\" class=\"dataframe\">\n",
       "  <thead>\n",
       "    <tr style=\"text-align: right;\">\n",
       "      <th></th>\n",
       "      <th>smoke</th>\n",
       "      <th>pid</th>\n",
       "    </tr>\n",
       "  </thead>\n",
       "  <tbody>\n",
       "    <tr>\n",
       "      <th>0</th>\n",
       "      <td>1.0</td>\n",
       "      <td>5183</td>\n",
       "    </tr>\n",
       "    <tr>\n",
       "      <th>1</th>\n",
       "      <td>2.0</td>\n",
       "      <td>42</td>\n",
       "    </tr>\n",
       "    <tr>\n",
       "      <th>2</th>\n",
       "      <td>3.0</td>\n",
       "      <td>20</td>\n",
       "    </tr>\n",
       "    <tr>\n",
       "      <th>3</th>\n",
       "      <td>4.0</td>\n",
       "      <td>169</td>\n",
       "    </tr>\n",
       "    <tr>\n",
       "      <th>4</th>\n",
       "      <td>9.0</td>\n",
       "      <td>677</td>\n",
       "    </tr>\n",
       "  </tbody>\n",
       "</table>\n",
       "</div>"
      ],
      "text/plain": [
       "   smoke   pid\n",
       "0    1.0  5183\n",
       "1    2.0    42\n",
       "2    3.0    20\n",
       "3    4.0   169\n",
       "4    9.0   677"
      ]
     },
     "execution_count": 25,
     "metadata": {},
     "output_type": "execute_result"
    }
   ],
   "source": [
    "ncd.groupby(\"smoke\", as_index=False).agg({'pid': pd.Series.nunique})"
   ]
  },
  {
   "cell_type": "code",
   "execution_count": 26,
   "metadata": {},
   "outputs": [
    {
     "data": {
      "text/plain": [
       "<Axes: xlabel='bslevel'>"
      ]
     },
     "execution_count": 26,
     "metadata": {},
     "output_type": "execute_result"
    },
    {
     "data": {
      "image/png": "[encoded data removed]",
      "text/plain": [
       "<Figure size 1000x100 with 1 Axes>"
      ]
     },
     "metadata": {},
     "output_type": "display_data"
    }
   ],
   "source": [
    "plt.figure(figsize=(10,1))\n",
    "sns.boxplot(ncd, x=\"bslevel\")"
   ]
  }
 ],
 "metadata": {
  "kernelspec": {
   "display_name": ".venv",
   "language": "python",
   "name": "python3"
  },
  "language_info": {
   "codemirror_mode": {
    "name": "ipython",
    "version": 3
   },
   "file_extension": ".py",
   "mimetype": "text/x-python",
   "name": "python",
   "nbconvert_exporter": "python",
   "pygments_lexer": "ipython3",
   "version": "3.12.2"
  }
 },
 "nbformat": 4,
 "nbformat_minor": 2
}
