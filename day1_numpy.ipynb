{
  "nbformat": 4,
  "nbformat_minor": 0,
  "metadata": {
    "colab": {
      "provenance": []
    },
    "kernelspec": {
      "name": "python3",
      "display_name": "Python 3"
    },
    "language_info": {
      "name": "python"
    }
  },
  "cells": [
    {
      "cell_type": "code",
      "execution_count": null,
      "metadata": {
        "id": "PFBMJBbk8TX9"
      },
      "outputs": [],
      "source": [
        "import numpy as np"
      ]
    },
    {
      "cell_type": "code",
      "source": [
        "cvalue = [32.2,33.8,29.2,34.6,32.7,30.1,33.4,26.1,27.7,35.7]"
      ],
      "metadata": {
        "id": "r5LZGXcc8eFW"
      },
      "execution_count": null,
      "outputs": []
    },
    {
      "cell_type": "code",
      "source": [
        "type(cvalue)"
      ],
      "metadata": {
        "id": "JGcHU-JK9aaN"
      },
      "execution_count": null,
      "outputs": []
    },
    {
      "cell_type": "markdown",
      "source": [
        "เปลี่ยนจาก list เป็น array เพื่อง่ายต่อการจัดการ Operation"
      ],
      "metadata": {
        "id": "0Q7weW8Y-Vj7"
      }
    },
    {
      "cell_type": "code",
      "source": [
        "c = np.array(cvalue)"
      ],
      "metadata": {
        "id": "hIpqsVE79HaX"
      },
      "execution_count": null,
      "outputs": []
    },
    {
      "cell_type": "code",
      "source": [
        "type(c)"
      ],
      "metadata": {
        "id": "UQHEhrxt9h9e"
      },
      "execution_count": null,
      "outputs": []
    },
    {
      "cell_type": "code",
      "source": [
        "print(c)"
      ],
      "metadata": {
        "id": "ofksXLuC9Nh8"
      },
      "execution_count": null,
      "outputs": []
    },
    {
      "cell_type": "code",
      "source": [
        "c*9/5+32"
      ],
      "metadata": {
        "id": "233n-q1U-HPw"
      },
      "execution_count": null,
      "outputs": []
    },
    {
      "cell_type": "code",
      "source": [
        "l = [51,10,20,93,19,72,3,61,12,62]"
      ],
      "metadata": {
        "id": "-uGytWnr-fJI"
      },
      "execution_count": null,
      "outputs": []
    },
    {
      "cell_type": "code",
      "source": [
        "type(l)"
      ],
      "metadata": {
        "colab": {
          "base_uri": "https://localhost:8080/"
        },
        "id": "4_p4lWE9-kWc",
        "outputId": "73a63041-d233-4695-c33c-86839f07a278"
      },
      "execution_count": null,
      "outputs": [
        {
          "output_type": "execute_result",
          "data": {
            "text/plain": [
              "list"
            ]
          },
          "metadata": {},
          "execution_count": 15
        }
      ]
    },
    {
      "cell_type": "code",
      "source": [
        "ages = np.array(l)"
      ],
      "metadata": {
        "id": "PPZF1ZbH-mtH"
      },
      "execution_count": null,
      "outputs": []
    },
    {
      "cell_type": "code",
      "source": [
        "2566-ages"
      ],
      "metadata": {
        "id": "AU600AeI-vir"
      },
      "execution_count": null,
      "outputs": []
    },
    {
      "cell_type": "markdown",
      "source": [
        "Creating array: np.arange()"
      ],
      "metadata": {
        "id": "WB0s6aRXBnW_"
      }
    },
    {
      "cell_type": "code",
      "source": [
        "x = np.arange(1,10,3)\n",
        "print(x)"
      ],
      "metadata": {
        "colab": {
          "base_uri": "https://localhost:8080/"
        },
        "id": "xcHQ7btABCkP",
        "outputId": "56dbbfba-1fae-42a3-968c-73e552ebe187"
      },
      "execution_count": null,
      "outputs": [
        {
          "output_type": "stream",
          "name": "stdout",
          "text": [
            "[1 4 7]\n"
          ]
        }
      ]
    },
    {
      "cell_type": "markdown",
      "source": [
        "Creating array: np.linspace()"
      ],
      "metadata": {
        "id": "gW5X1qRQBqMb"
      }
    },
    {
      "cell_type": "code",
      "source": [
        "y = np.linspace(1,10,7)\n",
        "print(y)"
      ],
      "metadata": {
        "colab": {
          "base_uri": "https://localhost:8080/"
        },
        "id": "xzJYO1UbBuQu",
        "outputId": "570315fa-65ce-41d9-c508-82d79c38fe5f"
      },
      "execution_count": null,
      "outputs": [
        {
          "output_type": "stream",
          "name": "stdout",
          "text": [
            "[ 1.   2.5  4.   5.5  7.   8.5 10. ]\n"
          ]
        }
      ]
    },
    {
      "cell_type": "code",
      "source": [
        "%%time\n",
        "samples = np.random.uniform(0,30, size = 1000000)\n",
        "samples_list = samples.tolist()"
      ],
      "metadata": {
        "colab": {
          "base_uri": "https://localhost:8080/"
        },
        "id": "Je6zZyNkLFce",
        "outputId": "91093c3f-7a43-4f67-f4a4-d726b3156fba"
      },
      "execution_count": null,
      "outputs": [
        {
          "output_type": "stream",
          "name": "stdout",
          "text": [
            "CPU times: user 25.9 ms, sys: 40.1 ms, total: 65.9 ms\n",
            "Wall time: 64.9 ms\n"
          ]
        }
      ]
    },
    {
      "cell_type": "code",
      "source": [
        "samples[:10]"
      ],
      "metadata": {
        "colab": {
          "base_uri": "https://localhost:8080/"
        },
        "id": "Udyj3J9ZLZ2l",
        "outputId": "0dc25504-553b-4727-f6cf-82536adcc5ee"
      },
      "execution_count": null,
      "outputs": [
        {
          "output_type": "execute_result",
          "data": {
            "text/plain": [
              "array([21.66095118, 23.28179814, 18.35339213,  0.74275639,  7.04007027,\n",
              "        2.42898728,  4.63268142, 16.20866891,  5.6819017 , 14.28686984])"
            ]
          },
          "metadata": {},
          "execution_count": 37
        }
      ]
    },
    {
      "cell_type": "code",
      "source": [
        "np.max(samples)"
      ],
      "metadata": {
        "colab": {
          "base_uri": "https://localhost:8080/"
        },
        "id": "s5GFA1LJOyQr",
        "outputId": "e3687e6d-98ee-47d3-c6e1-7f39c22f4c0e"
      },
      "execution_count": null,
      "outputs": [
        {
          "output_type": "execute_result",
          "data": {
            "text/plain": [
              "29.99997829367281"
            ]
          },
          "metadata": {},
          "execution_count": 40
        }
      ]
    },
    {
      "cell_type": "code",
      "source": [
        "t = [15,10, 20, 39, 19, 27, 3, 16, 21, 26]"
      ],
      "metadata": {
        "id": "O3n8kQOSO3g_"
      },
      "execution_count": null,
      "outputs": []
    },
    {
      "cell_type": "code",
      "source": [
        "d = [['a', 15],['b',10],['c', 39]]"
      ],
      "metadata": {
        "id": "Ui7nAoGpRRX6"
      },
      "execution_count": null,
      "outputs": []
    },
    {
      "cell_type": "code",
      "source": [
        "s = np.sort(t)"
      ],
      "metadata": {
        "id": "lL2gze2aQi5R"
      },
      "execution_count": null,
      "outputs": []
    },
    {
      "cell_type": "code",
      "source": [
        "ts = s[::-1]\n",
        "ts"
      ],
      "metadata": {
        "colab": {
          "base_uri": "https://localhost:8080/"
        },
        "id": "lgWjOlwgQtYj",
        "outputId": "0a79de17-b0c5-4bf6-faa5-de132619b698"
      },
      "execution_count": null,
      "outputs": [
        {
          "output_type": "execute_result",
          "data": {
            "text/plain": [
              "array([39, 27, 26, 21, 20, 19, 16, 15, 10,  3])"
            ]
          },
          "metadata": {},
          "execution_count": 57
        }
      ]
    },
    {
      "cell_type": "code",
      "source": [
        "ts[0:3]"
      ],
      "metadata": {
        "colab": {
          "base_uri": "https://localhost:8080/"
        },
        "id": "WPdEYUIEQ5mN",
        "outputId": "04b9bb51-5010-4552-b9ad-6e6be44b3840"
      },
      "execution_count": null,
      "outputs": [
        {
          "output_type": "execute_result",
          "data": {
            "text/plain": [
              "array([39, 27, 26])"
            ]
          },
          "metadata": {},
          "execution_count": 59
        }
      ]
    }
  ]
}