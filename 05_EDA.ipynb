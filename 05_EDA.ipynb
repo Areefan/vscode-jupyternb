{
 "cells": [
  {
   "cell_type": "code",
   "execution_count": 47,
   "metadata": {},
   "outputs": [],
   "source": [
    "import pandas as pd\n",
    "import matplotlib.pyplot as plt\n",
    "import seaborn as sns\n",
    "import numpy as np"
   ]
  },
  {
   "cell_type": "markdown",
   "metadata": {},
   "source": [
    "Add Font Thai"
   ]
  },
  {
   "cell_type": "code",
   "execution_count": null,
   "metadata": {},
   "outputs": [],
   "source": [
    "import matplotlib as mpl\n",
    "mpl.font_manager.fontManager.addfont(\"data/EDA_files/thsarabunnew-webfont.ttf\")\n",
    "mpl.rc('font', family=\"TH Sarabun New\", size=10)"
   ]
  },
  {
   "cell_type": "code",
   "execution_count": 12,
   "metadata": {},
   "outputs": [],
   "source": [
    "ncd = pd.read_csv(\"data/EDA_files/ncd_screen.csv\")"
   ]
  },
  {
   "cell_type": "markdown",
   "metadata": {},
   "source": [
    "### lab 1  mean"
   ]
  },
  {
   "cell_type": "code",
   "execution_count": 15,
   "metadata": {},
   "outputs": [
    {
     "data": {
      "text/plain": [
       "104.37630827783063"
      ]
     },
     "execution_count": 15,
     "metadata": {},
     "output_type": "execute_result"
    }
   ],
   "source": [
    "ncd['bslevel'].mean()"
   ]
  },
  {
   "cell_type": "markdown",
   "metadata": {},
   "source": [
    "### lab 2 median"
   ]
  },
  {
   "cell_type": "code",
   "execution_count": null,
   "metadata": {},
   "outputs": [],
   "source": [
    "ncd[[\"sbp_1\",\"dbp_1\"]].median()"
   ]
  },
  {
   "cell_type": "markdown",
   "metadata": {},
   "source": [
    "### lab 3 Two Variables : Aggregation"
   ]
  },
  {
   "cell_type": "code",
   "execution_count": null,
   "metadata": {},
   "outputs": [],
   "source": [
    "ncd[[\"bstest\",\"bslevel\"]].groupby(\"bstest\",as_index=False).median()"
   ]
  },
  {
   "cell_type": "markdown",
   "metadata": {},
   "source": [
    "### lab 4 Catogory Data : Unique values (DISTINCT)"
   ]
  },
  {
   "cell_type": "code",
   "execution_count": 26,
   "metadata": {},
   "outputs": [],
   "source": [
    "hosp = pd.read_csv('data/EDA_files/hospital_info.csv')"
   ]
  },
  {
   "cell_type": "code",
   "execution_count": null,
   "metadata": {},
   "outputs": [],
   "source": [
    "pd.DataFrame(hosp['mname'].unique())"
   ]
  },
  {
   "cell_type": "markdown",
   "metadata": {},
   "source": [
    "### lab 5 Catagory Data : Frequency value"
   ]
  },
  {
   "cell_type": "code",
   "execution_count": null,
   "metadata": {},
   "outputs": [],
   "source": [
    "h = hosp.groupby(\"mname\", as_index=False).agg({\"hospname\": pd.Series.nunique})\n",
    "h"
   ]
  },
  {
   "cell_type": "markdown",
   "metadata": {},
   "source": [
    "### lab 6 Two variables : Catagory x Catagory (Contingency Table)"
   ]
  },
  {
   "cell_type": "code",
   "execution_count": null,
   "metadata": {},
   "outputs": [],
   "source": [
    "pd.crosstab(hosp[\"mname\"],hosp[\"haslatlog\"])"
   ]
  },
  {
   "cell_type": "markdown",
   "metadata": {},
   "source": [
    "### lab 7 Two variables : Numerical x Numerical (Correlation)"
   ]
  },
  {
   "cell_type": "code",
   "execution_count": null,
   "metadata": {},
   "outputs": [],
   "source": [
    "new_ncd = ncd.drop(columns=[\"hospcode\", \"pid\", \"seq\", \"ncd_screen_date_serv\", \"servplace\",\"smoke\",\"alcohol\",\"dmfamily\",\"htfamily\",\"bstest\",\"screenplace\"])\n",
    "\n",
    "corr = new_ncd.corr()\n",
    "corr.style.background_gradient(cmap=\"coolwarm\")"
   ]
  },
  {
   "cell_type": "markdown",
   "metadata": {},
   "source": [
    "### Lab 8 Visualizing Relation (2 Numerical Variables)"
   ]
  },
  {
   "cell_type": "code",
   "execution_count": 172,
   "metadata": {},
   "outputs": [],
   "source": [
    "x = ncd[\"sbp_1\"]\n",
    "y = ncd[\"dbp_1\"]"
   ]
  },
  {
   "cell_type": "code",
   "execution_count": null,
   "metadata": {},
   "outputs": [],
   "source": [
    "plt.scatter(x,y, edgecolors =\"black\")"
   ]
  },
  {
   "cell_type": "code",
   "execution_count": 173,
   "metadata": {},
   "outputs": [
    {
     "data": {
      "text/plain": [
       "<Axes: xlabel='sbp_1', ylabel='dbp_1'>"
      ]
     },
     "execution_count": 173,
     "metadata": {},
     "output_type": "execute_result"
    },
    {
     "data": {
      "image/png": "[encoded data removed]",
      "text/plain": [
       "<Figure size 640x480 with 1 Axes>"
      ]
     },
     "metadata": {},
     "output_type": "display_data"
    }
   ],
   "source": [
    "sns.scatterplot(data = ncd, x=\"sbp_1\", y = \"dbp_1\")"
   ]
  },
  {
   "cell_type": "markdown",
   "metadata": {},
   "source": [
    "### Lab 9 Visualizine Relation (3 Numerical Variables)"
   ]
  },
  {
   "cell_type": "code",
   "execution_count": 170,
   "metadata": {},
   "outputs": [
    {
     "data": {
      "text/html": [
       "<div>\n",
       "<style scoped>\n",
       "    .dataframe tbody tr th:only-of-type {\n",
       "        vertical-align: middle;\n",
       "    }\n",
       "\n",
       "    .dataframe tbody tr th {\n",
       "        vertical-align: top;\n",
       "    }\n",
       "\n",
       "    .dataframe thead th {\n",
       "        text-align: right;\n",
       "    }\n",
       "</style>\n",
       "<table border=\"1\" class=\"dataframe\">\n",
       "  <thead>\n",
       "    <tr style=\"text-align: right;\">\n",
       "      <th></th>\n",
       "      <th>hospcode</th>\n",
       "      <th>pid</th>\n",
       "      <th>seq</th>\n",
       "      <th>ncd_screen_date_serv</th>\n",
       "      <th>servplace</th>\n",
       "      <th>smoke</th>\n",
       "      <th>alcohol</th>\n",
       "      <th>dmfamily</th>\n",
       "      <th>htfamily</th>\n",
       "      <th>weight</th>\n",
       "      <th>height</th>\n",
       "      <th>waist_cm</th>\n",
       "      <th>sbp_1</th>\n",
       "      <th>dbp_1</th>\n",
       "      <th>sbp_2</th>\n",
       "      <th>dbp_2</th>\n",
       "      <th>bslevel</th>\n",
       "      <th>bstest</th>\n",
       "      <th>screenplace</th>\n",
       "    </tr>\n",
       "  </thead>\n",
       "  <tbody>\n",
       "    <tr>\n",
       "      <th>0</th>\n",
       "      <td>11023</td>\n",
       "      <td>008765</td>\n",
       "      <td>3499362</td>\n",
       "      <td>12/2/2013</td>\n",
       "      <td>1</td>\n",
       "      <td>1.0</td>\n",
       "      <td>1.0</td>\n",
       "      <td>9.0</td>\n",
       "      <td>1.0</td>\n",
       "      <td>55.0</td>\n",
       "      <td>149</td>\n",
       "      <td>88</td>\n",
       "      <td>113</td>\n",
       "      <td>68</td>\n",
       "      <td>110.0</td>\n",
       "      <td>89.0</td>\n",
       "      <td>86.0</td>\n",
       "      <td>3.0</td>\n",
       "      <td>11023</td>\n",
       "    </tr>\n",
       "    <tr>\n",
       "      <th>1</th>\n",
       "      <td>11024</td>\n",
       "      <td>017330</td>\n",
       "      <td>1841142</td>\n",
       "      <td>12/16/2015</td>\n",
       "      <td>1</td>\n",
       "      <td>1.0</td>\n",
       "      <td>1.0</td>\n",
       "      <td>2.0</td>\n",
       "      <td>2.0</td>\n",
       "      <td>46.0</td>\n",
       "      <td>154</td>\n",
       "      <td>76</td>\n",
       "      <td>120</td>\n",
       "      <td>60</td>\n",
       "      <td>120.0</td>\n",
       "      <td>60.0</td>\n",
       "      <td>130.0</td>\n",
       "      <td>3.0</td>\n",
       "      <td>11024</td>\n",
       "    </tr>\n",
       "    <tr>\n",
       "      <th>2</th>\n",
       "      <td>12418</td>\n",
       "      <td>049945</td>\n",
       "      <td>705117</td>\n",
       "      <td>7/9/2020</td>\n",
       "      <td>1</td>\n",
       "      <td>1.0</td>\n",
       "      <td>1.0</td>\n",
       "      <td>2.0</td>\n",
       "      <td>2.0</td>\n",
       "      <td>52.0</td>\n",
       "      <td>160</td>\n",
       "      <td>74</td>\n",
       "      <td>110</td>\n",
       "      <td>59</td>\n",
       "      <td>110.0</td>\n",
       "      <td>60.0</td>\n",
       "      <td>88.0</td>\n",
       "      <td>3.0</td>\n",
       "      <td>12418</td>\n",
       "    </tr>\n",
       "    <tr>\n",
       "      <th>3</th>\n",
       "      <td>12418</td>\n",
       "      <td>055877</td>\n",
       "      <td>693664</td>\n",
       "      <td>9/1/2020</td>\n",
       "      <td>1</td>\n",
       "      <td>1.0</td>\n",
       "      <td>1.0</td>\n",
       "      <td>2.0</td>\n",
       "      <td>2.0</td>\n",
       "      <td>50.0</td>\n",
       "      <td>165</td>\n",
       "      <td>74</td>\n",
       "      <td>100</td>\n",
       "      <td>65</td>\n",
       "      <td>100.0</td>\n",
       "      <td>60.0</td>\n",
       "      <td>85.0</td>\n",
       "      <td>3.0</td>\n",
       "      <td>12418</td>\n",
       "    </tr>\n",
       "    <tr>\n",
       "      <th>4</th>\n",
       "      <td>12418</td>\n",
       "      <td>053288</td>\n",
       "      <td>705105</td>\n",
       "      <td>7/9/2020</td>\n",
       "      <td>1</td>\n",
       "      <td>1.0</td>\n",
       "      <td>1.0</td>\n",
       "      <td>2.0</td>\n",
       "      <td>2.0</td>\n",
       "      <td>56.0</td>\n",
       "      <td>160</td>\n",
       "      <td>78</td>\n",
       "      <td>110</td>\n",
       "      <td>63</td>\n",
       "      <td>110.0</td>\n",
       "      <td>63.0</td>\n",
       "      <td>85.0</td>\n",
       "      <td>3.0</td>\n",
       "      <td>12418</td>\n",
       "    </tr>\n",
       "    <tr>\n",
       "      <th>...</th>\n",
       "      <td>...</td>\n",
       "      <td>...</td>\n",
       "      <td>...</td>\n",
       "      <td>...</td>\n",
       "      <td>...</td>\n",
       "      <td>...</td>\n",
       "      <td>...</td>\n",
       "      <td>...</td>\n",
       "      <td>...</td>\n",
       "      <td>...</td>\n",
       "      <td>...</td>\n",
       "      <td>...</td>\n",
       "      <td>...</td>\n",
       "      <td>...</td>\n",
       "      <td>...</td>\n",
       "      <td>...</td>\n",
       "      <td>...</td>\n",
       "      <td>...</td>\n",
       "      <td>...</td>\n",
       "    </tr>\n",
       "    <tr>\n",
       "      <th>95</th>\n",
       "      <td>11025</td>\n",
       "      <td>135675</td>\n",
       "      <td>2123434</td>\n",
       "      <td>12/11/2015</td>\n",
       "      <td>1</td>\n",
       "      <td>1.0</td>\n",
       "      <td>1.0</td>\n",
       "      <td>9.0</td>\n",
       "      <td>9.0</td>\n",
       "      <td>80.0</td>\n",
       "      <td>150</td>\n",
       "      <td>86</td>\n",
       "      <td>110</td>\n",
       "      <td>70</td>\n",
       "      <td>110.0</td>\n",
       "      <td>70.0</td>\n",
       "      <td>82.0</td>\n",
       "      <td>3.0</td>\n",
       "      <td>11025</td>\n",
       "    </tr>\n",
       "    <tr>\n",
       "      <th>96</th>\n",
       "      <td>11025</td>\n",
       "      <td>135078</td>\n",
       "      <td>2122643</td>\n",
       "      <td>12/11/2015</td>\n",
       "      <td>1</td>\n",
       "      <td>1.0</td>\n",
       "      <td>1.0</td>\n",
       "      <td>9.0</td>\n",
       "      <td>9.0</td>\n",
       "      <td>50.0</td>\n",
       "      <td>160</td>\n",
       "      <td>76</td>\n",
       "      <td>120</td>\n",
       "      <td>80</td>\n",
       "      <td>120.0</td>\n",
       "      <td>80.0</td>\n",
       "      <td>82.0</td>\n",
       "      <td>3.0</td>\n",
       "      <td>11025</td>\n",
       "    </tr>\n",
       "    <tr>\n",
       "      <th>97</th>\n",
       "      <td>13910</td>\n",
       "      <td>3610</td>\n",
       "      <td>130906</td>\n",
       "      <td>10/14/2013</td>\n",
       "      <td>2</td>\n",
       "      <td>1.0</td>\n",
       "      <td>1.0</td>\n",
       "      <td>1.0</td>\n",
       "      <td>2.0</td>\n",
       "      <td>72.0</td>\n",
       "      <td>165</td>\n",
       "      <td>80</td>\n",
       "      <td>120</td>\n",
       "      <td>80</td>\n",
       "      <td>120.0</td>\n",
       "      <td>80.0</td>\n",
       "      <td>132.0</td>\n",
       "      <td>3.0</td>\n",
       "      <td>13910</td>\n",
       "    </tr>\n",
       "    <tr>\n",
       "      <th>98</th>\n",
       "      <td>21323</td>\n",
       "      <td>071171</td>\n",
       "      <td>1421235</td>\n",
       "      <td>1/11/2021</td>\n",
       "      <td>1</td>\n",
       "      <td>1.0</td>\n",
       "      <td>1.0</td>\n",
       "      <td>2.0</td>\n",
       "      <td>2.0</td>\n",
       "      <td>95.0</td>\n",
       "      <td>167</td>\n",
       "      <td>108</td>\n",
       "      <td>139</td>\n",
       "      <td>87</td>\n",
       "      <td>0.0</td>\n",
       "      <td>0.0</td>\n",
       "      <td>88.0</td>\n",
       "      <td>3.0</td>\n",
       "      <td>21323</td>\n",
       "    </tr>\n",
       "    <tr>\n",
       "      <th>99</th>\n",
       "      <td>11446</td>\n",
       "      <td>170035</td>\n",
       "      <td>38978991</td>\n",
       "      <td>11/15/2014</td>\n",
       "      <td>1</td>\n",
       "      <td>1.0</td>\n",
       "      <td>1.0</td>\n",
       "      <td>2.0</td>\n",
       "      <td>2.0</td>\n",
       "      <td>61.0</td>\n",
       "      <td>161</td>\n",
       "      <td>84</td>\n",
       "      <td>120</td>\n",
       "      <td>70</td>\n",
       "      <td>120.0</td>\n",
       "      <td>70.0</td>\n",
       "      <td>90.0</td>\n",
       "      <td>3.0</td>\n",
       "      <td>11446</td>\n",
       "    </tr>\n",
       "  </tbody>\n",
       "</table>\n",
       "<p>100 rows × 19 columns</p>\n",
       "</div>"
      ],
      "text/plain": [
       "    hospcode     pid       seq ncd_screen_date_serv  servplace  smoke  \\\n",
       "0      11023  008765   3499362            12/2/2013          1    1.0   \n",
       "1      11024  017330   1841142           12/16/2015          1    1.0   \n",
       "2      12418  049945    705117             7/9/2020          1    1.0   \n",
       "3      12418  055877    693664             9/1/2020          1    1.0   \n",
       "4      12418  053288    705105             7/9/2020          1    1.0   \n",
       "..       ...     ...       ...                  ...        ...    ...   \n",
       "95     11025  135675   2123434           12/11/2015          1    1.0   \n",
       "96     11025  135078   2122643           12/11/2015          1    1.0   \n",
       "97     13910    3610    130906           10/14/2013          2    1.0   \n",
       "98     21323  071171   1421235            1/11/2021          1    1.0   \n",
       "99     11446  170035  38978991           11/15/2014          1    1.0   \n",
       "\n",
       "    alcohol  dmfamily  htfamily  weight  height  waist_cm  sbp_1  dbp_1  \\\n",
       "0       1.0       9.0       1.0    55.0     149        88    113     68   \n",
       "1       1.0       2.0       2.0    46.0     154        76    120     60   \n",
       "2       1.0       2.0       2.0    52.0     160        74    110     59   \n",
       "3       1.0       2.0       2.0    50.0     165        74    100     65   \n",
       "4       1.0       2.0       2.0    56.0     160        78    110     63   \n",
       "..      ...       ...       ...     ...     ...       ...    ...    ...   \n",
       "95      1.0       9.0       9.0    80.0     150        86    110     70   \n",
       "96      1.0       9.0       9.0    50.0     160        76    120     80   \n",
       "97      1.0       1.0       2.0    72.0     165        80    120     80   \n",
       "98      1.0       2.0       2.0    95.0     167       108    139     87   \n",
       "99      1.0       2.0       2.0    61.0     161        84    120     70   \n",
       "\n",
       "    sbp_2  dbp_2  bslevel  bstest  screenplace  \n",
       "0   110.0   89.0     86.0     3.0        11023  \n",
       "1   120.0   60.0    130.0     3.0        11024  \n",
       "2   110.0   60.0     88.0     3.0        12418  \n",
       "3   100.0   60.0     85.0     3.0        12418  \n",
       "4   110.0   63.0     85.0     3.0        12418  \n",
       "..    ...    ...      ...     ...          ...  \n",
       "95  110.0   70.0     82.0     3.0        11025  \n",
       "96  120.0   80.0     82.0     3.0        11025  \n",
       "97  120.0   80.0    132.0     3.0        13910  \n",
       "98    0.0    0.0     88.0     3.0        21323  \n",
       "99  120.0   70.0     90.0     3.0        11446  \n",
       "\n",
       "[100 rows x 19 columns]"
      ]
     },
     "execution_count": 170,
     "metadata": {},
     "output_type": "execute_result"
    }
   ],
   "source": [
    "ncd100 =  ncd.head(100)\n",
    "ncd100"
   ]
  },
  {
   "cell_type": "code",
   "execution_count": null,
   "metadata": {},
   "outputs": [],
   "source": [
    "x = ncd100['weight']\n",
    "y = ncd100['height']\n",
    "s = ncd100['bslevel']\n",
    "\n",
    "plt.scatter(x,y, s=s, edgecolor=\"black\", c=\"orange\")"
   ]
  },
  {
   "cell_type": "code",
   "execution_count": null,
   "metadata": {},
   "outputs": [],
   "source": [
    "sns.scatterplot(data = ncd100, x=x,y=y, size=s, sizes= (1,250))"
   ]
  },
  {
   "cell_type": "markdown",
   "metadata": {},
   "source": [
    "### Lab 10 Visualizine Relation (1 Categorical and 1 Numerical)"
   ]
  },
  {
   "cell_type": "code",
   "execution_count": 78,
   "metadata": {},
   "outputs": [],
   "source": [
    "ncd5 =  ncd.head(5)"
   ]
  },
  {
   "cell_type": "code",
   "execution_count": null,
   "metadata": {},
   "outputs": [],
   "source": [
    "ax = sns.barplot(ncd5, x='pid', y='bslevel')\n",
    "ax.bar_label(ax.containers[0])"
   ]
  },
  {
   "cell_type": "markdown",
   "metadata": {},
   "source": [
    "### Lab 11 2 Categorical and 1 numerical : BAR"
   ]
  },
  {
   "cell_type": "code",
   "execution_count": 166,
   "metadata": {},
   "outputs": [],
   "source": [
    "dbp = {\n",
    "  \"dbp_1\" : ncd5[\"dbp_1\"],\n",
    "  \"dbp_2\": ncd5[\"dbp_2\"]\n",
    "}"
   ]
  },
  {
   "cell_type": "code",
   "execution_count": 168,
   "metadata": {},
   "outputs": [
    {
     "data": {
      "text/html": [
       "<div>\n",
       "<style scoped>\n",
       "    .dataframe tbody tr th:only-of-type {\n",
       "        vertical-align: middle;\n",
       "    }\n",
       "\n",
       "    .dataframe tbody tr th {\n",
       "        vertical-align: top;\n",
       "    }\n",
       "\n",
       "    .dataframe thead th {\n",
       "        text-align: right;\n",
       "    }\n",
       "</style>\n",
       "<table border=\"1\" class=\"dataframe\">\n",
       "  <thead>\n",
       "    <tr style=\"text-align: right;\">\n",
       "      <th></th>\n",
       "      <th>pid</th>\n",
       "      <th>variable</th>\n",
       "      <th>value</th>\n",
       "    </tr>\n",
       "  </thead>\n",
       "  <tbody>\n",
       "    <tr>\n",
       "      <th>0</th>\n",
       "      <td>008765</td>\n",
       "      <td>dbp_1</td>\n",
       "      <td>68.0</td>\n",
       "    </tr>\n",
       "    <tr>\n",
       "      <th>1</th>\n",
       "      <td>017330</td>\n",
       "      <td>dbp_1</td>\n",
       "      <td>60.0</td>\n",
       "    </tr>\n",
       "    <tr>\n",
       "      <th>2</th>\n",
       "      <td>049945</td>\n",
       "      <td>dbp_1</td>\n",
       "      <td>59.0</td>\n",
       "    </tr>\n",
       "    <tr>\n",
       "      <th>3</th>\n",
       "      <td>055877</td>\n",
       "      <td>dbp_1</td>\n",
       "      <td>65.0</td>\n",
       "    </tr>\n",
       "    <tr>\n",
       "      <th>4</th>\n",
       "      <td>053288</td>\n",
       "      <td>dbp_1</td>\n",
       "      <td>63.0</td>\n",
       "    </tr>\n",
       "    <tr>\n",
       "      <th>5</th>\n",
       "      <td>008765</td>\n",
       "      <td>dbp_2</td>\n",
       "      <td>89.0</td>\n",
       "    </tr>\n",
       "    <tr>\n",
       "      <th>6</th>\n",
       "      <td>017330</td>\n",
       "      <td>dbp_2</td>\n",
       "      <td>60.0</td>\n",
       "    </tr>\n",
       "    <tr>\n",
       "      <th>7</th>\n",
       "      <td>049945</td>\n",
       "      <td>dbp_2</td>\n",
       "      <td>60.0</td>\n",
       "    </tr>\n",
       "    <tr>\n",
       "      <th>8</th>\n",
       "      <td>055877</td>\n",
       "      <td>dbp_2</td>\n",
       "      <td>60.0</td>\n",
       "    </tr>\n",
       "    <tr>\n",
       "      <th>9</th>\n",
       "      <td>053288</td>\n",
       "      <td>dbp_2</td>\n",
       "      <td>63.0</td>\n",
       "    </tr>\n",
       "  </tbody>\n",
       "</table>\n",
       "</div>"
      ],
      "text/plain": [
       "      pid variable  value\n",
       "0  008765    dbp_1   68.0\n",
       "1  017330    dbp_1   60.0\n",
       "2  049945    dbp_1   59.0\n",
       "3  055877    dbp_1   65.0\n",
       "4  053288    dbp_1   63.0\n",
       "5  008765    dbp_2   89.0\n",
       "6  017330    dbp_2   60.0\n",
       "7  049945    dbp_2   60.0\n",
       "8  055877    dbp_2   60.0\n",
       "9  053288    dbp_2   63.0"
      ]
     },
     "execution_count": 168,
     "metadata": {},
     "output_type": "execute_result"
    }
   ],
   "source": [
    "new_ncd = pd.melt(ncd5,id_vars=['pid'], value_vars=[\"dbp_1\",\"dbp_2\"])\n",
    "new_ncd"
   ]
  },
  {
   "cell_type": "code",
   "execution_count": null,
   "metadata": {},
   "outputs": [],
   "source": [
    "ax = sns.barplot(new_ncd, x=\"pid\", y = \"value\",hue =\"variable\")\n",
    "\n",
    "for i in ax.containers: \n",
    "  ax.bar_label(i)\n",
    "plt.show()"
   ]
  },
  {
   "cell_type": "markdown",
   "metadata": {},
   "source": [
    "### Lab 12 Stacked Bar"
   ]
  },
  {
   "cell_type": "code",
   "execution_count": 138,
   "metadata": {},
   "outputs": [
    {
     "data": {
      "text/html": [
       "<div>\n",
       "<style scoped>\n",
       "    .dataframe tbody tr th:only-of-type {\n",
       "        vertical-align: middle;\n",
       "    }\n",
       "\n",
       "    .dataframe tbody tr th {\n",
       "        vertical-align: top;\n",
       "    }\n",
       "\n",
       "    .dataframe thead th {\n",
       "        text-align: right;\n",
       "    }\n",
       "</style>\n",
       "<table border=\"1\" class=\"dataframe\">\n",
       "  <thead>\n",
       "    <tr style=\"text-align: right;\">\n",
       "      <th></th>\n",
       "      <th>age</th>\n",
       "      <th>male</th>\n",
       "      <th>female</th>\n",
       "    </tr>\n",
       "  </thead>\n",
       "  <tbody>\n",
       "    <tr>\n",
       "      <th>0</th>\n",
       "      <td>0-14</td>\n",
       "      <td>5454539</td>\n",
       "      <td>5151825</td>\n",
       "    </tr>\n",
       "    <tr>\n",
       "      <th>1</th>\n",
       "      <td>15-24</td>\n",
       "      <td>4221749</td>\n",
       "      <td>4023668</td>\n",
       "    </tr>\n",
       "    <tr>\n",
       "      <th>2</th>\n",
       "      <td>25-54</td>\n",
       "      <td>14712579</td>\n",
       "      <td>15005961</td>\n",
       "    </tr>\n",
       "    <tr>\n",
       "      <th>3</th>\n",
       "      <td>55-64</td>\n",
       "      <td>4136063</td>\n",
       "      <td>4748248</td>\n",
       "    </tr>\n",
       "    <tr>\n",
       "      <th>4</th>\n",
       "      <td>65+</td>\n",
       "      <td>3745685</td>\n",
       "      <td>4890158</td>\n",
       "    </tr>\n",
       "  </tbody>\n",
       "</table>\n",
       "</div>"
      ],
      "text/plain": [
       "     age      male    female\n",
       "0   0-14   5454539   5151825\n",
       "1  15-24   4221749   4023668\n",
       "2  25-54  14712579  15005961\n",
       "3  55-64   4136063   4748248\n",
       "4    65+   3745685   4890158"
      ]
     },
     "execution_count": 138,
     "metadata": {},
     "output_type": "execute_result"
    }
   ],
   "source": [
    "ages = pd.read_csv(\"data/EDA_files/age_structure_2022_boi.csv\")\n",
    "ages"
   ]
  },
  {
   "cell_type": "code",
   "execution_count": 178,
   "metadata": {},
   "outputs": [
    {
     "data": {
      "text/plain": [
       "0     0-14\n",
       "1    15-24\n",
       "2    25-54\n",
       "3    55-64\n",
       "4      65+\n",
       "Name: age, dtype: object"
      ]
     },
     "execution_count": 178,
     "metadata": {},
     "output_type": "execute_result"
    }
   ],
   "source": [
    "age_group = ages[\"age\"]\n",
    "age_group"
   ]
  },
  {
   "cell_type": "code",
   "execution_count": 165,
   "metadata": {},
   "outputs": [
    {
     "data": {
      "text/plain": [
       "{'ชาย': 0     5.454539\n",
       " 1     4.221749\n",
       " 2    14.712579\n",
       " 3     4.136063\n",
       " 4     3.745685\n",
       " Name: male, dtype: float64,\n",
       " 'หญิง': 0     5.151825\n",
       " 1     4.023668\n",
       " 2    15.005961\n",
       " 3     4.748248\n",
       " 4     4.890158\n",
       " Name: female, dtype: float64}"
      ]
     },
     "execution_count": 165,
     "metadata": {},
     "output_type": "execute_result"
    }
   ],
   "source": [
    "sex_counts = {\n",
    "  \"ชาย\": ages[\"male\"] /1000000,\n",
    "  \"หญิง\" : ages[\"female\"] /1000000\n",
    "}\n",
    "sex_counts"
   ]
  },
  {
   "cell_type": "markdown",
   "metadata": {},
   "source": [
    "Add Font thai"
   ]
  },
  {
   "cell_type": "code",
   "execution_count": 143,
   "metadata": {},
   "outputs": [],
   "source": [
    "import matplotlib as mpl\n",
    "mpl.font_manager.fontManager.addfont(\"data/EDA_files/thsarabunnew-webfont.ttf\")\n",
    "mpl.rc('font', family=\"TH Sarabun New\", size=10)"
   ]
  },
  {
   "cell_type": "code",
   "execution_count": null,
   "metadata": {},
   "outputs": [],
   "source": [
    "width = 0.6\n",
    "fig, ax = plt.subplots()\n",
    "bottom = np.zeros(len(age_group))\n",
    "\n",
    "for sex, sex_count in sex_counts.items():\n",
    "  container = ax.bar(x=age_group, height = sex_count, width=width, label=sex, bottom=bottom)\n",
    "  bottom += sex_count\n",
    "  ax.bar_label(container,label_type=\"center\")\n",
    "ax.set_title(\"จำนวนประชากรไทย แยกตามกลุ่มอายุ ค.ศ 2022 (หน่วย:ล้านคน)\")\n",
    "ax.legend()"
   ]
  },
  {
   "cell_type": "markdown",
   "metadata": {},
   "source": [
    "### Lab 13 Stacked bar 100 %"
   ]
  },
  {
   "cell_type": "code",
   "execution_count": null,
   "metadata": {},
   "outputs": [],
   "source": [
    "sum_counts = ages[\"male\"] + ages[\"female\"]\n",
    "sex_counts = {\n",
    "  \"ชาย\": ages[\"male\"] /sum_counts *100,\n",
    "  \"หญิง\" : ages[\"female\"] /sum_counts *100\n",
    "}"
   ]
  },
  {
   "cell_type": "code",
   "execution_count": null,
   "metadata": {},
   "outputs": [],
   "source": [
    "width = 0.6\n",
    "fig, ax = plt.subplots()\n",
    "bottom = np.zeros(len(age_group))\n",
    "\n",
    "for sex, sex_count in sex_counts.items():\n",
    "  container = ax.bar(x=age_group, height = sex_count, width=width, label=sex, bottom=bottom)\n",
    "  bottom += sex_count\n",
    "  ax.bar_label(container,label_type=\"center\")\n",
    "ax.set_title(\"จำนวนประชากรไทย แยกตามกลุ่มอายุ ค.ศ 2022 (หน่วย:ล้านคน)\")\n",
    "ax.legend()"
   ]
  },
  {
   "cell_type": "markdown",
   "metadata": {},
   "source": [
    "### Lab 14 Pie chart"
   ]
  },
  {
   "cell_type": "code",
   "execution_count": 176,
   "metadata": {},
   "outputs": [
    {
     "data": {
      "text/plain": [
       "0     0-14\n",
       "1    15-24\n",
       "2    25-54\n",
       "3    55-64\n",
       "4      65+\n",
       "Name: age, dtype: object"
      ]
     },
     "execution_count": 176,
     "metadata": {},
     "output_type": "execute_result"
    }
   ],
   "source": [
    "age_group = ages[\"age\"]\n",
    "sum_counts = ages[\"male\"] + ages[\"female\"]\n",
    "age_group"
   ]
  },
  {
   "cell_type": "markdown",
   "metadata": {},
   "source": [
    "color palatte `Pastel`"
   ]
  },
  {
   "cell_type": "code",
   "execution_count": 157,
   "metadata": {},
   "outputs": [],
   "source": [
    "colors = sns.color_palette('pastel')[0:5]"
   ]
  },
  {
   "cell_type": "code",
   "execution_count": 177,
   "metadata": {},
   "outputs": [
    {
     "data": {
      "image/png": "[encoded data removed]",
      "text/plain": [
       "<Figure size 640x480 with 1 Axes>"
      ]
     },
     "metadata": {},
     "output_type": "display_data"
    }
   ],
   "source": [
    "plt.pie(sum_counts, labels = age_group, autopct =\"%.1f%%\", colors = colors)\n",
    "plt.show()"
   ]
  },
  {
   "cell_type": "markdown",
   "metadata": {},
   "source": [
    "### Lab 15 Histogram"
   ]
  },
  {
   "cell_type": "code",
   "execution_count": null,
   "metadata": {},
   "outputs": [],
   "source": [
    "values, bins, bars = plt.hist(ncd[\"bslevel\"], bins = 10)\n",
    "plt.bar_label(bars)\n",
    "plt.xticks(bins)\n",
    "\n",
    "plt.show()"
   ]
  },
  {
   "cell_type": "markdown",
   "metadata": {},
   "source": [
    "### Lab 16 box plot"
   ]
  },
  {
   "cell_type": "code",
   "execution_count": null,
   "metadata": {},
   "outputs": [],
   "source": [
    "plt.figure(figsize=(10,1))\n",
    "sns.boxplot(ncd, x=\"bslevel\")\n",
    "plt.show()"
   ]
  }
 ],
 "metadata": {
  "kernelspec": {
   "display_name": ".venv",
   "language": "python",
   "name": "python3"
  },
  "language_info": {
   "codemirror_mode": {
    "name": "ipython",
    "version": 3
   },
   "file_extension": ".py",
   "mimetype": "text/x-python",
   "name": "python",
   "nbconvert_exporter": "python",
   "pygments_lexer": "ipython3",
   "version": "3.12.2"
  }
 },
 "nbformat": 4,
 "nbformat_minor": 2
}
