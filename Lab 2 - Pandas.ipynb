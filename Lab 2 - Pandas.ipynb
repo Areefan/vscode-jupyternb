{
 "cells": [
  {
   "cell_type": "markdown",
   "id": "fc7beb84-7c1a-49ff-bdc6-e1b2549796d2",
   "metadata": {},
   "source": [
    "# Introduction to Pandas"
   ]
  },
  {
   "cell_type": "markdown",
   "id": "0abda508-c736-4060-bb47-79c3f9e517c2",
   "metadata": {},
   "source": [
    "## Create DataFrame from file"
   ]
  },
  {
   "cell_type": "code",
   "execution_count": null,
   "id": "8b5eef56-1907-411b-bb9c-d0d1c8616505",
   "metadata": {
    "tags": []
   },
   "outputs": [],
   "source": [
    "import pandas as pd\n",
    "pd.options.display.max_columns = None"
   ]
  },
  {
   "cell_type": "code",
   "execution_count": null,
   "id": "384cf70a-7c5b-45d1-a9b2-1c50ba9ddf99",
   "metadata": {
    "tags": []
   },
   "outputs": [],
   "source": [
    "df = pd.read_csv(\"data/C01-ncd_screen.csv\")"
   ]
  },
  {
   "cell_type": "code",
   "execution_count": null,
   "id": "6ac02a3f",
   "metadata": {},
   "outputs": [],
   "source": [
    "df[[\"hospcode\", \"pid\"]]"
   ]
  },
  {
   "cell_type": "markdown",
   "id": "dcbbb4c1-ff52-4698-985b-de1819cc2979",
   "metadata": {},
   "source": [
    "## Exploring DataFrame"
   ]
  },
  {
   "cell_type": "markdown",
   "id": "799324f7-afbe-4451-bc73-30b248fcb092",
   "metadata": {},
   "source": [
    "### Checking dimension"
   ]
  },
  {
   "cell_type": "code",
   "execution_count": null,
   "id": "6f4bb819-3b86-41aa-818e-3c85f4e313b7",
   "metadata": {
    "tags": []
   },
   "outputs": [],
   "source": [
    "hosp_info.shape"
   ]
  },
  {
   "cell_type": "markdown",
   "id": "0e6b4e02-776a-44af-bcce-88a88daed850",
   "metadata": {},
   "source": [
    "### Checking data type"
   ]
  },
  {
   "cell_type": "code",
   "execution_count": null,
   "id": "caa76de4-3b7b-481d-8f7f-4ab71c6217e4",
   "metadata": {
    "tags": []
   },
   "outputs": [],
   "source": [
    "hosp_info.info()"
   ]
  },
  {
   "cell_type": "markdown",
   "id": "376e55c8-bdc1-4542-ad71-55625fdec994",
   "metadata": {},
   "source": [
    "#### Interpreting `object` column"
   ]
  },
  {
   "cell_type": "code",
   "execution_count": null,
   "id": "b192f1d9-30cb-46f6-98ef-98678aa70fb9",
   "metadata": {
    "tags": []
   },
   "outputs": [],
   "source": [
    "hosp_info[\"mname\"][0]"
   ]
  },
  {
   "cell_type": "code",
   "execution_count": null,
   "id": "7594ed6a-b6b7-4734-9cc4-5a68cd6649d6",
   "metadata": {
    "tags": []
   },
   "outputs": [],
   "source": [
    "type(hosp_info[\"mname\"][0])"
   ]
  },
  {
   "cell_type": "markdown",
   "id": "e0fdffbe-358f-43ad-b58d-52c4c2eb4b79",
   "metadata": {},
   "source": [
    "### Read dataframe again with `hospcode` as string"
   ]
  },
  {
   "cell_type": "code",
   "execution_count": null,
   "id": "8cb23ab8-4c7a-4d8d-8d3f-aa12db249734",
   "metadata": {
    "tags": []
   },
   "outputs": [],
   "source": [
    "hosp_info = pd.read_csv(\"data/C00-hospital_info.csv\", dtype={\"hospcode\":str})"
   ]
  },
  {
   "cell_type": "markdown",
   "id": "eddd23de-dbe8-404b-95e2-bd97221fc42c",
   "metadata": {},
   "source": [
    "### Viewing DataFrame"
   ]
  },
  {
   "cell_type": "markdown",
   "id": "40b4d6a4-9cdf-43f0-bbe1-2a50f0424d04",
   "metadata": {},
   "source": [
    "#### `.head()` and `.tail()`"
   ]
  },
  {
   "cell_type": "code",
   "execution_count": null,
   "id": "f98851bb-9155-4b48-bdd9-1f035440ec8b",
   "metadata": {
    "tags": []
   },
   "outputs": [],
   "source": [
    "hosp_info.head()"
   ]
  },
  {
   "cell_type": "code",
   "execution_count": null,
   "id": "43afc447-06ea-4eb8-8de1-632b82c2f3d2",
   "metadata": {
    "tags": []
   },
   "outputs": [],
   "source": [
    "hosp_info.tail()"
   ]
  },
  {
   "cell_type": "markdown",
   "id": "3fae883f-9a23-4037-851d-cec8286144a7",
   "metadata": {},
   "source": [
    "#### Sampling"
   ]
  },
  {
   "cell_type": "code",
   "execution_count": null,
   "id": "7de7b936-c89b-4a81-936c-805b9b62338d",
   "metadata": {
    "tags": []
   },
   "outputs": [],
   "source": [
    "hosp_info.sample(n=5)"
   ]
  },
  {
   "cell_type": "code",
   "execution_count": null,
   "id": "1a61c58c-f29b-4921-a7b1-e37e0aa9fbc7",
   "metadata": {
    "tags": []
   },
   "outputs": [],
   "source": [
    "hosp_info.sample(frac=0.0005)"
   ]
  },
  {
   "cell_type": "markdown",
   "id": "6f4104d8-9d9e-40d6-837f-e59dda327d7d",
   "metadata": {},
   "source": [
    "### Sorting DataFrame"
   ]
  },
  {
   "cell_type": "code",
   "execution_count": null,
   "id": "110ca3b8-6d98-4b28-8d13-df73ea0ae333",
   "metadata": {
    "tags": []
   },
   "outputs": [],
   "source": [
    "hosp_info.sort_values(by=\"hospcode\")"
   ]
  },
  {
   "cell_type": "code",
   "execution_count": null,
   "id": "4bd57658-0309-4ba8-8379-522b27beb17b",
   "metadata": {
    "tags": []
   },
   "outputs": [],
   "source": [
    "hosp_info.sort_values(by=[\"mname\", \"dname\"], ascending=[True, False])"
   ]
  },
  {
   "cell_type": "markdown",
   "id": "5967183e-5f27-425d-9e93-ad4c68eb6d8a",
   "metadata": {},
   "source": [
    "### Selecing data"
   ]
  },
  {
   "cell_type": "markdown",
   "id": "eeaba4c9-4cb7-4e9f-a51d-38537914364e",
   "metadata": {},
   "source": [
    "#### Select specific columns"
   ]
  },
  {
   "cell_type": "code",
   "execution_count": null,
   "id": "0b98aa6b-0035-4020-8ccb-71358e62a5fc",
   "metadata": {
    "tags": []
   },
   "outputs": [],
   "source": [
    "hosp_info[\"hospcode\"]"
   ]
  },
  {
   "cell_type": "code",
   "execution_count": null,
   "id": "5125c121-85f7-40e2-89d2-d5b7c7a7371f",
   "metadata": {
    "tags": []
   },
   "outputs": [],
   "source": [
    "hosp_info[[\"hospcode\", \"hospname\"]]"
   ]
  },
  {
   "cell_type": "markdown",
   "id": "59b7de35-426a-41a9-b92f-1fc8ce160cfd",
   "metadata": {},
   "source": [
    "#### `.loc` and `.iloc`"
   ]
  },
  {
   "cell_type": "code",
   "execution_count": null,
   "id": "7e09e2e2-f912-41d3-b22e-57a40a8b9e60",
   "metadata": {
    "tags": []
   },
   "outputs": [],
   "source": [
    "hosp_info.loc[[5, 19, 32], [\"hospname\", \"address\"]]"
   ]
  },
  {
   "cell_type": "code",
   "execution_count": null,
   "id": "4f40a4cb-fe1e-4bcb-9a91-8a3d09d71264",
   "metadata": {
    "tags": []
   },
   "outputs": [],
   "source": [
    "hosp_info.iloc[[5, 19, 32], [3, 5]]"
   ]
  },
  {
   "cell_type": "markdown",
   "id": "5088efaa-95da-4ba3-a01b-e92ed784539f",
   "metadata": {},
   "source": [
    "#### Conditional filtering"
   ]
  },
  {
   "cell_type": "code",
   "execution_count": null,
   "id": "a88d3e56-bf5f-4c0c-8074-182bcc593561",
   "metadata": {
    "tags": []
   },
   "outputs": [],
   "source": [
    "hosp_info[hosp_info[\"dname\"]==\"กรมการแพทย์\"]"
   ]
  },
  {
   "cell_type": "code",
   "execution_count": null,
   "id": "dba9e0ee-46ef-42ef-96d8-877f34156ab4",
   "metadata": {
    "tags": []
   },
   "outputs": [],
   "source": [
    "hosp_info[(hosp_info[\"dname\"]==\"กรมการแพทย์\") &\n",
    "          (hosp_info[\"haslatlog\"]==\"N\")\n",
    "         ] "
   ]
  },
  {
   "cell_type": "markdown",
   "id": "2612864b-0cff-4329-91ca-91ef43e1cef0",
   "metadata": {},
   "source": [
    "#### `.isin`"
   ]
  },
  {
   "cell_type": "code",
   "execution_count": null,
   "id": "08827657-4471-45ed-85e2-dbf71016fa16",
   "metadata": {
    "tags": []
   },
   "outputs": [],
   "source": [
    "hosp_info[hosp_info[\"dname\"].isin([\"กรมการแพทย์\", \"สำนักอนามัย\"])]"
   ]
  },
  {
   "cell_type": "markdown",
   "id": "519e9de6-ea89-4f10-8478-c359820ec58a",
   "metadata": {},
   "source": [
    "### String method"
   ]
  },
  {
   "cell_type": "code",
   "execution_count": null,
   "id": "33f04b7c-466a-4bdc-a5ce-12edf5f60d2f",
   "metadata": {
    "tags": []
   },
   "outputs": [],
   "source": [
    "hosp_info[hosp_info[\"hospname\"].str.contains(\"โรงพยาบาลส่งเสริมสุขภาพตำบล\")]"
   ]
  },
  {
   "cell_type": "markdown",
   "id": "3620aee7-11b4-4d20-bb97-d757f0375829",
   "metadata": {},
   "source": [
    "# Challenge #1"
   ]
  },
  {
   "cell_type": "markdown",
   "id": "b94a5ce1-1557-4337-b173-f2c8b05faaaf",
   "metadata": {},
   "source": [
    "ให้ใช้ข้อมูล C01-ncd_screen.csv เลือกข้อมูลที่ตรงกับเงื่อนไขต่อไปนี้\n",
    "1. ผู้ที่มีความเสี่ยง Hypertension (SBP ≥ 140 หรือ DBP ≥ 90)\n",
    "2. ผู้ที่มีความเสี่ยง Diabetes \n",
    "   - BSLEVEL ≥ 126 หรือ \n",
    "   - DMFAMILY=1 และ BSLEVEL ≥ 120 "
   ]
  },
  {
   "cell_type": "code",
   "execution_count": null,
   "id": "8da5fd15-3a5e-426d-8735-e7348233db67",
   "metadata": {},
   "outputs": [],
   "source": [
    "ncd_screen= pd.read_csv(\"data/C01-ncd_screen.csv\")"
   ]
  },
  {
   "cell_type": "code",
   "execution_count": null,
   "id": "51465478",
   "metadata": {},
   "outputs": [],
   "source": [
    "\n",
    "ncd_screen[(ncd_screen[\"sbp_1\"] >= 140) | (ncd_screen[\"dbp_1\"] >= 90) ]"
   ]
  },
  {
   "cell_type": "code",
   "execution_count": null,
   "id": "e01fed8b",
   "metadata": {},
   "outputs": [],
   "source": [
    "\n",
    "ncd_screen[ (ncd_screen[\"bslevel\"] >= 126) | ((ncd_screen[\"dmfamily\"] == 1) & (ncd_screen[\"bslevel\"] >= 120))]"
   ]
  },
  {
   "cell_type": "markdown",
   "id": "eac7cdd4-81af-40a6-b766-afc99596792c",
   "metadata": {},
   "source": [
    "# Exploratory Data Analysis"
   ]
  },
  {
   "cell_type": "code",
   "execution_count": null,
   "id": "80b5c262-bead-4baa-8e4f-34731550f8df",
   "metadata": {
    "tags": []
   },
   "outputs": [],
   "source": [
    "ncd_screen = pd.read_csv(\"data/C01-ncd_screen.csv\", dtype={\"hospcode\":str,\n",
    "                                                           \"servplace\":str,\n",
    "                                                           \"smoke\":str,\n",
    "                                                           \"alcohol\":str,\n",
    "                                                           \"dmfamily\":str,\n",
    "                                                           \"htfamily\":str,\n",
    "                                                           \"bstest\":str,\n",
    "                                                           \"screenplace\":str\n",
    "                                                          })"
   ]
  },
  {
   "cell_type": "markdown",
   "id": "c4263bf1-04c8-4e50-9709-ed3d4c1898ea",
   "metadata": {},
   "source": [
    "## Basic statistics"
   ]
  },
  {
   "cell_type": "markdown",
   "id": "3844eca1-6a0e-47e4-a4a3-a6cec0b395d1",
   "metadata": {},
   "source": [
    "### `.describe`"
   ]
  },
  {
   "cell_type": "code",
   "execution_count": null,
   "id": "080f7bbe-70e2-424f-b649-0d2faa996e17",
   "metadata": {
    "tags": []
   },
   "outputs": [],
   "source": [
    "ncd_screen.describe()"
   ]
  },
  {
   "cell_type": "markdown",
   "id": "4f4b450a-8475-4b8f-8d02-52ce985cc616",
   "metadata": {},
   "source": [
    "### Histogram"
   ]
  },
  {
   "cell_type": "code",
   "execution_count": null,
   "id": "b9382b52-3c9a-4e7e-885f-f4006f728977",
   "metadata": {
    "tags": []
   },
   "outputs": [],
   "source": [
    "import matplotlib.pyplot as plt"
   ]
  },
  {
   "cell_type": "code",
   "execution_count": null,
   "id": "901c8afe-8c57-4bc7-bb3d-bc79297ac100",
   "metadata": {
    "tags": []
   },
   "outputs": [],
   "source": [
    "ncd_screen[\"dbp_2\"].plot.hist()\n",
    "plt.show()"
   ]
  },
  {
   "cell_type": "markdown",
   "id": "a9c1c70a-02db-414e-9a1f-b3f99a2123a4",
   "metadata": {},
   "source": [
    "### Frequency: Countplot"
   ]
  },
  {
   "cell_type": "code",
   "execution_count": null,
   "id": "d4b58e93-df20-4da7-b7a8-c227efc0b289",
   "metadata": {
    "tags": []
   },
   "outputs": [],
   "source": [
    "import seaborn as sns"
   ]
  },
  {
   "cell_type": "code",
   "execution_count": null,
   "id": "8c2f1fba-83e1-4bb3-99b6-f10dca15fc91",
   "metadata": {
    "tags": []
   },
   "outputs": [],
   "source": [
    "sns.countplot(data=ncd_screen, x=\"smoke\")\n",
    "plt.show()"
   ]
  },
  {
   "cell_type": "markdown",
   "id": "5b114299-dc59-47ad-bc9c-6cdb24fae65a",
   "metadata": {},
   "source": [
    "# Challenge #2"
   ]
  },
  {
   "cell_type": "markdown",
   "id": "0bff9dd2-18a7-470b-8ae8-d89d122f5462",
   "metadata": {},
   "source": [
    "ให้ใช้ข้อมูล C01-ncd_screen.csv และคำอธิบายข้อมูลจากไฟล์ 43files_structure.pdf หน้า 92 ทำการหาข้อผิดพลาดในข้อมูลในคอลัมน์ต่อไปนี้\n",
    "- servplace\n",
    "- alcohol\n",
    "- dmfamily\n",
    "- htfamily\n",
    "- bstest"
   ]
  },
  {
   "cell_type": "markdown",
   "id": "5f8de368-e742-416f-8572-9171739282c7",
   "metadata": {},
   "source": [
    "# Data Cleansing"
   ]
  },
  {
   "cell_type": "markdown",
   "id": "5af3bcf6-bc5d-4278-bd9f-e7af63ba8eea",
   "metadata": {},
   "source": [
    "## Missing data"
   ]
  },
  {
   "cell_type": "code",
   "execution_count": null,
   "id": "320aab0b-e0d3-46aa-8582-d30d82224ef8",
   "metadata": {
    "tags": []
   },
   "outputs": [],
   "source": [
    "ncd_screen.isnull().any()"
   ]
  },
  {
   "cell_type": "code",
   "execution_count": null,
   "id": "725e3637-010b-4bf0-88f3-ec37273cc52b",
   "metadata": {
    "tags": []
   },
   "outputs": [],
   "source": [
    "ncd_screen.info()"
   ]
  },
  {
   "cell_type": "markdown",
   "id": "bfd4e06c-0eda-4314-851d-bcc864d6766a",
   "metadata": {},
   "source": [
    "### Select only data that has `bslevel` using `.dropna()`"
   ]
  },
  {
   "cell_type": "code",
   "execution_count": null,
   "id": "807491f4-6efb-40b7-8c0b-51468d85c1ad",
   "metadata": {
    "tags": []
   },
   "outputs": [],
   "source": [
    "ncd_screen = ncd_screen.dropna(subset=[\"bslevel\"])"
   ]
  },
  {
   "cell_type": "code",
   "execution_count": null,
   "id": "5d8e57da-b921-4757-9d5c-0c46ba51650d",
   "metadata": {
    "tags": []
   },
   "outputs": [],
   "source": [
    "ncd_screen.isnull().any()"
   ]
  },
  {
   "cell_type": "markdown",
   "id": "8fb5cefc-d17b-4ee9-a3b6-b397c3ef0ed7",
   "metadata": {},
   "source": [
    "### Fill null value in `smoke`, `alcohol`, and `htfamily` with `9` using `.fillna()`"
   ]
  },
  {
   "cell_type": "code",
   "execution_count": null,
   "id": "c5dbc17e-7bb5-4588-a32b-b725130ef80d",
   "metadata": {
    "tags": []
   },
   "outputs": [],
   "source": [
    "ncd_screen[\"smoke\"].fillna(\"9\", inplace=True)\n",
    "ncd_screen[\"alcohol\"].fillna(\"9\", inplace=True)\n",
    "ncd_screen[\"htfamily\"].fillna(\"9\", inplace=True)"
   ]
  },
  {
   "cell_type": "code",
   "execution_count": null,
   "id": "d5c6967b-763c-43e1-9514-2c6cffd9d86e",
   "metadata": {
    "tags": []
   },
   "outputs": [],
   "source": [
    "ncd_screen.isnull().any()"
   ]
  },
  {
   "cell_type": "markdown",
   "id": "33b0ea08-7365-44a4-a90e-f5eb8e499f1d",
   "metadata": {},
   "source": [
    "## Invalid data"
   ]
  },
  {
   "cell_type": "markdown",
   "id": "6d83ab8b-4a45-4d8a-b92e-df72a58ce474",
   "metadata": {},
   "source": [
    "### Merge `0` in `smoke`, `alcohol`, and `htfamily` to `9` using `.replace`"
   ]
  },
  {
   "cell_type": "code",
   "execution_count": null,
   "id": "5f9ded05-e28a-458c-8eb2-c216f59ee710",
   "metadata": {
    "tags": []
   },
   "outputs": [],
   "source": [
    "ncd_screen[\"smoke\"].replace(\"0\", \"9\", inplace=True)"
   ]
  },
  {
   "cell_type": "code",
   "execution_count": null,
   "id": "2382e233-4928-43b9-bc9a-63f46c0600f6",
   "metadata": {
    "tags": []
   },
   "outputs": [],
   "source": [
    "sns.countplot(data=ncd_screen, x=\"smoke\")\n",
    "plt.show()"
   ]
  },
  {
   "cell_type": "markdown",
   "id": "e7dae730-0809-4ab1-9d95-31aa4a6ee033",
   "metadata": {},
   "source": [
    "## Outliers"
   ]
  },
  {
   "cell_type": "markdown",
   "id": "f4c76b19-1db7-4e2e-a904-da9ecc55c8b8",
   "metadata": {},
   "source": [
    "### Check for outliers"
   ]
  },
  {
   "cell_type": "code",
   "execution_count": null,
   "id": "4e359e67-d2a7-4995-80c4-75c4cc182b04",
   "metadata": {
    "tags": []
   },
   "outputs": [],
   "source": [
    "plt.figure(figsize=(12,4))\n",
    "sns.boxplot(data=ncd_screen, x=\"weight\")\n",
    "plt.show()"
   ]
  },
  {
   "cell_type": "code",
   "execution_count": null,
   "id": "74f1c799-4b95-462f-84ce-fa00ca151075",
   "metadata": {
    "tags": []
   },
   "outputs": [],
   "source": [
    "ncd_screen[\"weight\"].quantile([0, 0.01, 0.05, 0.1,\n",
    "                               0.25, 0.5, 0.75, 0.9,\n",
    "                               0.95, 0.99, 0.999, 1\n",
    "                              ])"
   ]
  },
  {
   "cell_type": "markdown",
   "id": "89c5e054-1f84-4b15-b3bc-b1be74b60fe3",
   "metadata": {},
   "source": [
    "### Remove rows with outliers"
   ]
  },
  {
   "cell_type": "code",
   "execution_count": null,
   "id": "3b529e01-07d3-4234-a7eb-be6e1040556d",
   "metadata": {
    "tags": []
   },
   "outputs": [],
   "source": [
    "ncd_screen = ncd_screen[(ncd_screen[\"weight\"] <= 250) &\n",
    "                        (ncd_screen[\"weight\"] >= 1) &\n",
    "                        (ncd_screen[\"height\"] <= 220) &\n",
    "                        (ncd_screen[\"height\"] >= 1)\n",
    "                       ]"
   ]
  },
  {
   "cell_type": "code",
   "execution_count": null,
   "id": "e3d25a3c-458b-49e1-a31e-38d028677601",
   "metadata": {
    "tags": []
   },
   "outputs": [],
   "source": [
    "ncd_screen[\"weight\"].plot.hist(bins=50)\n",
    "plt.show()"
   ]
  },
  {
   "cell_type": "markdown",
   "id": "1c721299-fb24-40aa-80fc-e479dc53981b",
   "metadata": {},
   "source": [
    "# Challenge #4"
   ]
  },
  {
   "cell_type": "markdown",
   "id": "38365935-1c21-4e3a-a10f-9ddb07c82f1c",
   "metadata": {},
   "source": [
    "ให้กำหนด correction logic ของคอลัมน์ต่อไปนี้ และทดลอง clean ข้อมูลด้วย logic ดังกล่าว\n",
    "- sbp_1\n",
    "- dbp_1\n",
    "- sbp_2 **\n",
    "- dbp_2 **\n",
    "- bslevel"
   ]
  },
  {
   "cell_type": "markdown",
   "id": "997df2a9-275c-41fa-8d5f-65f1f5292f7d",
   "metadata": {},
   "source": [
    "# Data Preparation"
   ]
  },
  {
   "cell_type": "markdown",
   "id": "bb0bd68d-edd1-4fd6-8048-f60eee094670",
   "metadata": {},
   "source": [
    "## Data enrichment / string extraction"
   ]
  },
  {
   "cell_type": "markdown",
   "id": "c58b2e26-b738-4afb-bf36-23ce16ce9e77",
   "metadata": {},
   "source": [
    "### Calculation"
   ]
  },
  {
   "cell_type": "code",
   "execution_count": null,
   "id": "57fa2a46-504d-48a3-aa46-cd6b2add418c",
   "metadata": {
    "tags": []
   },
   "outputs": [],
   "source": [
    "ncd_screen[\"bmi\"] = ncd_screen[\"weight\"] / (ncd_screen[\"height\"]*0.01)**2"
   ]
  },
  {
   "cell_type": "code",
   "execution_count": null,
   "id": "4d8d127f-8a4d-417a-8df5-d7e3cd79f871",
   "metadata": {
    "tags": []
   },
   "outputs": [],
   "source": [
    "ncd_screen[[\"hospcode\", \"pid\", \"weight\", \"height\", \"bmi\"]]"
   ]
  },
  {
   "cell_type": "markdown",
   "id": "8399b521-fc86-4d83-829a-ae56e8609130",
   "metadata": {},
   "source": [
    "### String extraction – split-and-extract"
   ]
  },
  {
   "cell_type": "code",
   "execution_count": null,
   "id": "71a7605d-2952-4ffc-b4d9-d52909cfcbe7",
   "metadata": {
    "tags": []
   },
   "outputs": [],
   "source": [
    "hosp_info[\"address\"].sample(5)"
   ]
  },
  {
   "cell_type": "markdown",
   "id": "5d8f5864-7c75-4b8c-8f08-2450cf591eec",
   "metadata": {},
   "source": [
    "#### Test data"
   ]
  },
  {
   "cell_type": "code",
   "execution_count": null,
   "id": "afff3292-aca6-405b-b74a-5bf3dbdedfb1",
   "metadata": {
    "tags": []
   },
   "outputs": [],
   "source": [
    "test_data = \"207 หมู่ 6 ต.พนมเศษ อ.ท่าตะโก จ.นครสวรรค์ 60160\""
   ]
  },
  {
   "cell_type": "code",
   "execution_count": null,
   "id": "c93ae768-4b6d-4165-9f78-2d988eb0d0b3",
   "metadata": {
    "tags": []
   },
   "outputs": [],
   "source": [
    "test_data.split(\" \")[-2].replace(\"จ.\", \"\")"
   ]
  },
  {
   "cell_type": "markdown",
   "id": "f21ea391-a79e-4fca-946c-de89a313e267",
   "metadata": {},
   "source": [
    "#### Define function"
   ]
  },
  {
   "cell_type": "code",
   "execution_count": null,
   "id": "9cf4493d-e46f-41d8-bbbf-50c2ac9c4021",
   "metadata": {
    "tags": []
   },
   "outputs": [],
   "source": [
    "def split_provice(address):\n",
    "    return address.split(\" \")[-2].replace(\"จ.\", \"\")"
   ]
  },
  {
   "cell_type": "markdown",
   "id": "8901596d-3f6f-4add-8ef0-b5f6bb5f54f9",
   "metadata": {},
   "source": [
    "#### Apply function"
   ]
  },
  {
   "cell_type": "code",
   "execution_count": null,
   "id": "b2627b70-cbfc-491b-aaea-58245118d0b6",
   "metadata": {
    "tags": []
   },
   "outputs": [],
   "source": [
    "hosp_info.dropna(subset=[\"address\"], inplace=True)"
   ]
  },
  {
   "cell_type": "code",
   "execution_count": null,
   "id": "b2639766-697d-4dca-93d6-6e0e9eff61f4",
   "metadata": {
    "tags": []
   },
   "outputs": [],
   "source": [
    "hosp_info[\"province\"] = hosp_info[\"address\"].apply(split_provice)"
   ]
  },
  {
   "cell_type": "code",
   "execution_count": null,
   "id": "9b857b1f-98b7-47bf-a2c9-4bd6efbcfbf5",
   "metadata": {
    "tags": []
   },
   "outputs": [],
   "source": [
    "hosp_info[[\"hospname\", \"address\", \"province\"]].head()"
   ]
  },
  {
   "cell_type": "markdown",
   "id": "eee7b585-c7ec-4dad-9a70-53fc7c17a589",
   "metadata": {},
   "source": [
    "### Merging"
   ]
  },
  {
   "cell_type": "markdown",
   "id": "59bb704d-2ba2-4db9-aea8-2d4761daee19",
   "metadata": {},
   "source": [
    "#### Join"
   ]
  },
  {
   "cell_type": "code",
   "execution_count": null,
   "id": "6fdbc011-9d5a-48b4-af53-72e485754659",
   "metadata": {
    "tags": []
   },
   "outputs": [],
   "source": [
    "chospital = pd.read_csv(\"data/C02-chospital.csv\", dtype=str)\n",
    "service = pd.read_csv(\"data/C03-service.csv\", dtype=str)"
   ]
  },
  {
   "cell_type": "code",
   "execution_count": null,
   "id": "c5d23736-4b95-4356-b47c-c4f26ef66a91",
   "metadata": {
    "tags": []
   },
   "outputs": [],
   "source": [
    "service.merge(chospital, on=\"hospcode\", how=\"inner\")[[\"hospital_name\"]+list(service.columns)]"
   ]
  },
  {
   "cell_type": "markdown",
   "id": "bac94986-ef6e-4364-ae2c-bceffb1102b2",
   "metadata": {},
   "source": [
    "## Summarization"
   ]
  },
  {
   "cell_type": "markdown",
   "id": "7cd32896-5750-42de-a605-5e7559413f78",
   "metadata": {},
   "source": [
    "### Descriptive statistics"
   ]
  },
  {
   "cell_type": "code",
   "execution_count": null,
   "id": "6425d4a3-c109-4ce5-9fa4-ea85c8bae2d4",
   "metadata": {
    "tags": []
   },
   "outputs": [],
   "source": [
    "ncd_screen.describe()"
   ]
  },
  {
   "cell_type": "markdown",
   "id": "bc9691ad-1310-4d86-ba3e-1de2b41bbb69",
   "metadata": {},
   "source": [
    "### Simple aggregation"
   ]
  },
  {
   "cell_type": "code",
   "execution_count": null,
   "id": "8755b060-82de-418e-81a6-a14109a30a0b",
   "metadata": {
    "tags": []
   },
   "outputs": [],
   "source": [
    "ncd_screen.agg(Total_hospcode=(\"hospcode\", \"nunique\"))"
   ]
  },
  {
   "cell_type": "markdown",
   "id": "2520b7fa-ee49-4928-8251-b84c7dfec082",
   "metadata": {},
   "source": [
    "### Group aggregation"
   ]
  },
  {
   "cell_type": "code",
   "execution_count": null,
   "id": "0ceaf208-4c7b-4c75-a480-da3c64a7549e",
   "metadata": {
    "tags": []
   },
   "outputs": [],
   "source": [
    "ncd_screen.groupby(\"htfamily\").agg(Total_patient=(\"pid\", \"nunique\"),\n",
    "                                   Mean_sbp1=(\"sbp_1\", \"mean\"),\n",
    "                                   Mean_dbp1=(\"dbp_1\", \"mean\")\n",
    "                                  )"
   ]
  },
  {
   "cell_type": "markdown",
   "id": "13b95f09-bb86-41e7-96c8-bed22ed2c324",
   "metadata": {},
   "source": [
    "## Reshaping data"
   ]
  },
  {
   "cell_type": "markdown",
   "id": "609f380c-cda4-44c9-a24f-29588b7a141b",
   "metadata": {},
   "source": [
    "### Long to wide - single row per unit"
   ]
  },
  {
   "cell_type": "code",
   "execution_count": null,
   "id": "6261a636-2a9e-41d1-9a3b-efc555433787",
   "metadata": {
    "tags": []
   },
   "outputs": [],
   "source": [
    "data = pd.read_csv(\"data/C04-population_pyramid_2566.csv\")"
   ]
  },
  {
   "cell_type": "code",
   "execution_count": null,
   "id": "90814a69-268e-46e7-88dd-e864b68da8d2",
   "metadata": {
    "tags": []
   },
   "outputs": [],
   "source": [
    "data.pivot(index=[\"groupcode\", \"groupname\"],\n",
    "           columns=\"sex\",\n",
    "           values=\"count\"\n",
    "          )"
   ]
  },
  {
   "cell_type": "markdown",
   "id": "57a4e5a4-5a53-4072-bee8-8dfaeafdb9b8",
   "metadata": {},
   "source": [
    "### Long to wide - multiple rows per unit"
   ]
  },
  {
   "cell_type": "code",
   "execution_count": null,
   "id": "f352a435-fa34-4d2a-aa22-3080680f58a2",
   "metadata": {
    "tags": []
   },
   "outputs": [],
   "source": [
    "data = pd.read_csv(\"data/C05-diagnosis_opd.csv\")"
   ]
  },
  {
   "cell_type": "code",
   "execution_count": null,
   "id": "11737f2e-e464-4d0b-ad97-688a5600c8d0",
   "metadata": {
    "tags": []
   },
   "outputs": [],
   "source": [
    "data.pivot_table(index=\"hospcode\",\n",
    "                 columns=\"diagcode\",\n",
    "                 values=\"seq\",\n",
    "                 aggfunc=\"count\",\n",
    "                 fill_value=0\n",
    "                ).sort_values(by=\"E041\", ascending=False)"
   ]
  },
  {
   "cell_type": "markdown",
   "id": "90016ff9-1d8c-46e2-8f35-30210dea29ea",
   "metadata": {},
   "source": [
    "### Wide to long"
   ]
  },
  {
   "cell_type": "code",
   "execution_count": null,
   "id": "3ebed591-7a6e-4676-8a07-3e182df227ed",
   "metadata": {
    "tags": []
   },
   "outputs": [],
   "source": [
    "data = pd.read_csv(\"data/C06-population_by_age_sex_2566.csv\", \n",
    "                   dtype={\"hospcode\":str, \n",
    "                          \"areacode\":str\n",
    "                         }\n",
    "                  )"
   ]
  },
  {
   "cell_type": "code",
   "execution_count": null,
   "id": "ee256f9e-e7f0-4afa-9e80-a0a54c5febf0",
   "metadata": {
    "tags": []
   },
   "outputs": [],
   "source": [
    "value_cols = [x for x in data.columns if \"_g\" in x]"
   ]
  },
  {
   "cell_type": "code",
   "execution_count": null,
   "id": "80d18292-db36-4bb3-8c15-6530f1037ece",
   "metadata": {
    "tags": []
   },
   "outputs": [],
   "source": [
    "data.melt(id_vars=[\"hospcode\", \"areacode\", \"b_year\"],\n",
    "          value_vars=value_cols,\n",
    "          value_name=\"count\",\n",
    "          var_name=\"group\"\n",
    "         )"
   ]
  },
  {
   "cell_type": "markdown",
   "id": "7b969b50-923f-4dcf-96bc-d99f824b463c",
   "metadata": {},
   "source": [
    "# Saving DataFrame to File"
   ]
  },
  {
   "cell_type": "code",
   "execution_count": null,
   "id": "16f0fd3c-628a-4486-83a0-325842c843e4",
   "metadata": {
    "tags": []
   },
   "outputs": [],
   "source": [
    "ncd_screen.to_csv(\"result.csv\", index=None)"
   ]
  },
  {
   "cell_type": "markdown",
   "id": "dcb4c148-06f3-47db-85dd-755f42478c16",
   "metadata": {},
   "source": [
    "---"
   ]
  }
 ],
 "metadata": {
  "kernelspec": {
   "display_name": "Python 3 (ipykernel)",
   "language": "python",
   "name": "python3"
  },
  "language_info": {
   "codemirror_mode": {
    "name": "ipython",
    "version": 3
   },
   "file_extension": ".py",
   "mimetype": "text/x-python",
   "name": "python",
   "nbconvert_exporter": "python",
   "pygments_lexer": "ipython3",
   "version": "3.12.2"
  }
 },
 "nbformat": 4,
 "nbformat_minor": 5
}
