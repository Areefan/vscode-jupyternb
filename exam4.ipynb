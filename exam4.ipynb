{
 "cells": [
  {
   "cell_type": "markdown",
   "metadata": {},
   "source": [
    "396. นายอารีฟัน หมะหมูด สำนักงานสาธารณสุขจังหวัดนราธิวาส"
   ]
  },
  {
   "cell_type": "code",
   "execution_count": 1,
   "metadata": {},
   "outputs": [],
   "source": [
    "import pymysql\n",
    "import pandas as pd"
   ]
  },
  {
   "cell_type": "code",
   "execution_count": null,
   "metadata": {},
   "outputs": [],
   "source": [
    "conn = pymysql.connect(\n",
    "  host = '202.44.12.115',\n",
    "  user='testuser',\n",
    "  password='P@ssw0rd',\n",
    "  db='dbuser_DB'\n",
    ")\n",
    "cur = conn.cursor()\n"
   ]
  },
  {
   "cell_type": "code",
   "execution_count": null,
   "metadata": {},
   "outputs": [],
   "source": [
    "cur.execute('show columns from location;')\n",
    "res_cols = cur.fetchall()\n",
    "std_cols = pd.DataFrame(res_cols)[0].tolist()\n",
    "std_cols"
   ]
  },
  {
   "cell_type": "markdown",
   "metadata": {},
   "source": [
    "สร้าง Dataframe อันใหม่ที่มีรายการข้อมูลเฉพาะจังหวัดพระนครศรีอยุธยา"
   ]
  },
  {
   "cell_type": "code",
   "execution_count": null,
   "metadata": {},
   "outputs": [],
   "source": [
    "cur.execute('SELECT * FROM location WHERE province = \"พระนครศรีอยุธยา\"')\n",
    "res = cur.fetchall()\n",
    "df_ayuthaya = pd.DataFrame(\n",
    "  data = res,\n",
    "  columns = std_cols\n",
    ")\n",
    "df_ayuthaya"
   ]
  },
  {
   "cell_type": "markdown",
   "metadata": {},
   "source": [
    "สร้าง Dataframe อันใหม่ที่มีรายการข้อมูลเฉพาะตำบลปากเพรียว อำเภอเมืองสระบุรี จังหวัดสระบุรี"
   ]
  },
  {
   "cell_type": "code",
   "execution_count": null,
   "metadata": {},
   "outputs": [],
   "source": [
    "cur.execute('SELECT * FROM location WHERE subdistrict = \"ปากเพรียว\" AND district = \"เมืองสระบุรี\" AND province = \"สระบุรี\"')\n",
    "res2 = cur.fetchall()\n",
    "df_saraburi = pd.DataFrame(\n",
    "  data = res2,\n",
    "  columns = std_cols\n",
    ")\n",
    "df_saraburi"
   ]
  }
 ],
 "metadata": {
  "kernelspec": {
   "display_name": ".venv",
   "language": "python",
   "name": "python3"
  },
  "language_info": {
   "codemirror_mode": {
    "name": "ipython",
    "version": 3
   },
   "file_extension": ".py",
   "mimetype": "text/x-python",
   "name": "python",
   "nbconvert_exporter": "python",
   "pygments_lexer": "ipython3",
   "version": "3.12.2"
  }
 },
 "nbformat": 4,
 "nbformat_minor": 2
}
