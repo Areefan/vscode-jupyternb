{
  "cells": [
    {
      "cell_type": "code",
      "execution_count": 3,
      "metadata": {
        "id": "an9SKXziWNmb"
      },
      "outputs": [],
      "source": [
        "import pandas as pd"
      ]
    },
    {
      "cell_type": "code",
      "execution_count": null,
      "metadata": {
        "id": "mLDeHYG2WlK4"
      },
      "outputs": [],
      "source": [
        "chosp = pd.read_csv(\"data/chospital.csv\")"
      ]
    },
    {
      "cell_type": "code",
      "execution_count": null,
      "metadata": {
        "id": "cii2HHfWXdFv"
      },
      "outputs": [],
      "source": [
        "print(chosp)"
      ]
    },
    {
      "cell_type": "markdown",
      "metadata": {
        "id": "FBGWUOohYzUd"
      },
      "source": [
        "วิธีการนำเข้าไฟล์จากไฟล์ที่ไม่ใช่ไฟล์ utf8"
      ]
    },
    {
      "cell_type": "code",
      "execution_count": null,
      "metadata": {
        "colab": {
          "base_uri": "https://localhost:8080/",
          "height": 159
        },
        "id": "o5f7wx73Xnln",
        "outputId": "59c557e6-1146-4f7e-8823-987c6c9d626c"
      },
      "outputs": [],
      "source": [
        "hi = pd.read_csv(\"data/hospital_info_2.csv\", encoding=\"cp874\", sep=\"|\", dtype={\"hospcode\": str})\n",
        "hi.info()"
      ]
    },
    {
      "cell_type": "code",
      "execution_count": null,
      "metadata": {
        "id": "PsAzWl_zrEVD"
      },
      "outputs": [],
      "source": [
        "tf = pd.read_excel(\"data/traffic_accident.xlsx\")\n",
        "tf.info()"
      ]
    },
    {
      "cell_type": "code",
      "execution_count": null,
      "metadata": {
        "id": "2oCRQbgWrba6"
      },
      "outputs": [],
      "source": [
        "service = pd.read_csv(\"data/service.csv\")"
      ]
    },
    {
      "cell_type": "code",
      "execution_count": null,
      "metadata": {
        "id": "eklCpOvEsY5K"
      },
      "outputs": [],
      "source": [
        "tf.info()"
      ]
    },
    {
      "cell_type": "code",
      "execution_count": null,
      "metadata": {
        "colab": {
          "base_uri": "https://localhost:8080/"
        },
        "id": "m-WxD6I5tFTM",
        "outputId": "3f4b3327-9170-4a97-e6bb-24624bcc4736"
      },
      "outputs": [],
      "source": [
        "tf['DEAD_YEAR'][0]"
      ]
    },
    {
      "cell_type": "code",
      "execution_count": null,
      "metadata": {
        "id": "FrdsVu4HtUnV"
      },
      "outputs": [],
      "source": [
        "tf.columns"
      ]
    },
    {
      "cell_type": "code",
      "execution_count": null,
      "metadata": {
        "id": "fcuQBeAQt8jZ"
      },
      "outputs": [],
      "source": [
        "tf.head()"
      ]
    },
    {
      "cell_type": "code",
      "execution_count": null,
      "metadata": {
        "id": "DzLe2TrCu292"
      },
      "outputs": [],
      "source": [
        "tf.sort_values(by=\"Age\")"
      ]
    },
    {
      "cell_type": "code",
      "execution_count": null,
      "metadata": {
        "id": "sA9LEGgqu1mj"
      },
      "outputs": [],
      "source": [
        "df = pd.read_csv(\"data/hospital_info.csv\")"
      ]
    },
    {
      "cell_type": "code",
      "execution_count": null,
      "metadata": {
        "id": "q70-S72oyoJG"
      },
      "outputs": [],
      "source": [
        "df.info()"
      ]
    },
    {
      "cell_type": "markdown",
      "metadata": {
        "id": "wvDbAAK6wiLt"
      },
      "source": [
        "วิธีการเรียง"
      ]
    },
    {
      "cell_type": "code",
      "execution_count": null,
      "metadata": {
        "id": "A1r9uNwdvHGK"
      },
      "outputs": [],
      "source": [
        "df.sort_values(by=['mname','dname'], ascending=[False,False])"
      ]
    },
    {
      "cell_type": "markdown",
      "metadata": {
        "id": "gx9mwLbRwlgL"
      },
      "source": [
        "Selected data"
      ]
    },
    {
      "cell_type": "code",
      "execution_count": null,
      "metadata": {
        "id": "ym0fn9C_vtG_"
      },
      "outputs": [],
      "source": [
        "df[['hospcode', 'hospname', 'haslatlog', 'lat', 'long']]"
      ]
    },
    {
      "cell_type": "markdown",
      "metadata": {
        "id": "dVt248k9wpbs"
      },
      "source": [
        "contition"
      ]
    },
    {
      "cell_type": "code",
      "execution_count": null,
      "metadata": {
        "id": "_wFhNcoDwuRV"
      },
      "outputs": [],
      "source": [
        "df[(df['mname'] == 'กระทรวงสาธารณสุข') & (df['haslatlog'] == 'Y') ]"
      ]
    },
    {
      "cell_type": "code",
      "execution_count": null,
      "metadata": {
        "id": "y0PKn8gRxt1T"
      },
      "outputs": [],
      "source": [
        "df[(df['mname'] == 'กระทรวงสาธารณสุข') & pd.isna(df['lat']) ]"
      ]
    },
    {
      "cell_type": "code",
      "execution_count": null,
      "metadata": {
        "id": "Zbt1hRDG4RVn"
      },
      "outputs": [],
      "source": [
        "df[df['mname'].isin(['กระทรวงสาธารณสุข', 'กรุงเทพมหานคร'])]"
      ]
    },
    {
      "cell_type": "code",
      "execution_count": null,
      "metadata": {
        "id": "qv8atDPl6OTx"
      },
      "outputs": [],
      "source": [
        "df[df['hospname'].str.contains('ค่าย')]"
      ]
    },
    {
      "cell_type": "code",
      "execution_count": null,
      "metadata": {
        "id": "CJkl7o3o6Pw1"
      },
      "outputs": [],
      "source": [
        "df.rename(columns={\"mname\": 'ministry_name'},inplace =True)"
      ]
    },
    {
      "cell_type": "markdown",
      "metadata": {
        "id": "VSJLHcJJ7ujm"
      },
      "source": [
        "Joining multiple DataFrames"
      ]
    },
    {
      "cell_type": "code",
      "execution_count": 4,
      "metadata": {
        "id": "qI_IRTE5702D"
      },
      "outputs": [],
      "source": [
        "chospital = pd.read_csv(\"data/chospital.csv\")"
      ]
    },
    {
      "cell_type": "code",
      "execution_count": 5,
      "metadata": {
        "id": "BPHkUXlE9LxG"
      },
      "outputs": [
        {
          "name": "stdout",
          "output_type": "stream",
          "text": [
            "<class 'pandas.core.frame.DataFrame'>\n",
            "RangeIndex: 2366 entries, 0 to 2365\n",
            "Data columns (total 2 columns):\n",
            " #   Column         Non-Null Count  Dtype \n",
            "---  ------         --------------  ----- \n",
            " 0   hospcode       2365 non-null   object\n",
            " 1   hospital_name  2365 non-null   object\n",
            "dtypes: object(2)\n",
            "memory usage: 37.1+ KB\n"
          ]
        }
      ],
      "source": [
        "chospital.info()"
      ]
    },
    {
      "cell_type": "code",
      "execution_count": null,
      "metadata": {
        "id": "kJotKpJ179yU"
      },
      "outputs": [],
      "source": [
        "services = pd.read_csv(\"data/service.csv\", dtype={\"hospcode\": str})"
      ]
    },
    {
      "cell_type": "code",
      "execution_count": null,
      "metadata": {
        "id": "HOlODRgv9QWz"
      },
      "outputs": [],
      "source": [
        "services.info()"
      ]
    },
    {
      "cell_type": "code",
      "execution_count": null,
      "metadata": {
        "id": "aaM-7E6U8Ft-"
      },
      "outputs": [],
      "source": [
        "result = services.merge(chospital, on=\"hospcode\", how=\"left\")[[\"hospital_name\"] + list(services.columns)]"
      ]
    },
    {
      "cell_type": "code",
      "execution_count": null,
      "metadata": {
        "colab": {
          "base_uri": "https://localhost:8080/",
          "height": 141
        },
        "id": "8R8rdq9GCzkv",
        "outputId": "ef4fe9fc-38df-49f1-ce03-485882b84dec"
      },
      "outputs": [],
      "source": [
        "result.to_csv(\"result.csv\", index=None)"
      ]
    }
  ],
  "metadata": {
    "colab": {
      "provenance": []
    },
    "kernelspec": {
      "display_name": "Python 3",
      "name": "python3"
    },
    "language_info": {
      "codemirror_mode": {
        "name": "ipython",
        "version": 3
      },
      "file_extension": ".py",
      "mimetype": "text/x-python",
      "name": "python",
      "nbconvert_exporter": "python",
      "pygments_lexer": "ipython3",
      "version": "3.12.2"
    }
  },
  "nbformat": 4,
  "nbformat_minor": 0
}
