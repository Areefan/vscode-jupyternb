{
  "nbformat": 4,
  "nbformat_minor": 0,
  "metadata": {
    "colab": {
      "provenance": []
    },
    "kernelspec": {
      "name": "python3",
      "display_name": "Python 3"
    },
    "language_info": {
      "name": "python"
    }
  },
  "cells": [
    {
      "cell_type": "code",
      "execution_count": null,
      "metadata": {
        "id": "an9SKXziWNmb"
      },
      "outputs": [],
      "source": [
        "import pandas as pd"
      ]
    },
    {
      "cell_type": "code",
      "source": [
        "chosp = pd.read_csv(\"data/chospital.csv\")"
      ],
      "metadata": {
        "id": "mLDeHYG2WlK4"
      },
      "execution_count": null,
      "outputs": []
    },
    {
      "cell_type": "code",
      "source": [
        "print(chosp)"
      ],
      "metadata": {
        "id": "cii2HHfWXdFv"
      },
      "execution_count": null,
      "outputs": []
    },
    {
      "cell_type": "markdown",
      "source": [
        "วิธีการนำเข้าไฟล์จากไฟล์ที่ไม่ใช่ไฟล์ utf8"
      ],
      "metadata": {
        "id": "FBGWUOohYzUd"
      }
    },
    {
      "cell_type": "code",
      "source": [
        "hi = pd.read_csv(\"data/hospital_info_2.csv\", encoding=\"cp874\", sep=\"|\", dtype={\"hospcode\": str})\n",
        "hi.info()"
      ],
      "metadata": {
        "id": "o5f7wx73Xnln",
        "colab": {
          "base_uri": "https://localhost:8080/",
          "height": 159
        },
        "outputId": "59c557e6-1146-4f7e-8823-987c6c9d626c"
      },
      "execution_count": 2,
      "outputs": [
        {
          "output_type": "error",
          "ename": "NameError",
          "evalue": "name 'pd' is not defined",
          "traceback": [
            "\u001b[0;31m---------------------------------------------------------------------------\u001b[0m",
            "\u001b[0;31mNameError\u001b[0m                                 Traceback (most recent call last)",
            "\u001b[0;32m<ipython-input-2-79d9c1d05502>\u001b[0m in \u001b[0;36m<cell line: 1>\u001b[0;34m()\u001b[0m\n\u001b[0;32m----> 1\u001b[0;31m \u001b[0mhi\u001b[0m \u001b[0;34m=\u001b[0m \u001b[0mpd\u001b[0m\u001b[0;34m.\u001b[0m\u001b[0mread_csv\u001b[0m\u001b[0;34m(\u001b[0m\u001b[0;34m\"data/hospital_info_2.csv\"\u001b[0m\u001b[0;34m,\u001b[0m \u001b[0mencoding\u001b[0m\u001b[0;34m=\u001b[0m\u001b[0;34m\"cp874\"\u001b[0m\u001b[0;34m,\u001b[0m \u001b[0msep\u001b[0m\u001b[0;34m=\u001b[0m\u001b[0;34m\"|\"\u001b[0m\u001b[0;34m,\u001b[0m \u001b[0mdtype\u001b[0m\u001b[0;34m=\u001b[0m\u001b[0;34m{\u001b[0m\u001b[0;34m\"hospcode\"\u001b[0m\u001b[0;34m:\u001b[0m \u001b[0mstr\u001b[0m\u001b[0;34m}\u001b[0m\u001b[0;34m)\u001b[0m\u001b[0;34m\u001b[0m\u001b[0;34m\u001b[0m\u001b[0m\n\u001b[0m\u001b[1;32m      2\u001b[0m \u001b[0mhi\u001b[0m\u001b[0;34m.\u001b[0m\u001b[0minfo\u001b[0m\u001b[0;34m(\u001b[0m\u001b[0;34m)\u001b[0m\u001b[0;34m\u001b[0m\u001b[0;34m\u001b[0m\u001b[0m\n",
            "\u001b[0;31mNameError\u001b[0m: name 'pd' is not defined"
          ]
        }
      ]
    },
    {
      "cell_type": "code",
      "source": [
        "tf = pd.read_excel(\"data/traffic_accident.xlsx\")\n",
        "tf.info()"
      ],
      "metadata": {
        "id": "PsAzWl_zrEVD"
      },
      "execution_count": null,
      "outputs": []
    },
    {
      "cell_type": "code",
      "source": [
        "service = pd.read_csv(\"data/service.csv\")"
      ],
      "metadata": {
        "id": "2oCRQbgWrba6"
      },
      "execution_count": null,
      "outputs": []
    },
    {
      "cell_type": "code",
      "source": [
        "tf.info()"
      ],
      "metadata": {
        "id": "eklCpOvEsY5K"
      },
      "execution_count": null,
      "outputs": []
    },
    {
      "cell_type": "code",
      "source": [
        "tf['DEAD_YEAR'][0]"
      ],
      "metadata": {
        "colab": {
          "base_uri": "https://localhost:8080/"
        },
        "id": "m-WxD6I5tFTM",
        "outputId": "3f4b3327-9170-4a97-e6bb-24624bcc4736"
      },
      "execution_count": null,
      "outputs": [
        {
          "output_type": "execute_result",
          "data": {
            "text/plain": [
              "2011"
            ]
          },
          "metadata": {},
          "execution_count": 33
        }
      ]
    },
    {
      "cell_type": "code",
      "source": [
        "tf.columns"
      ],
      "metadata": {
        "id": "FrdsVu4HtUnV"
      },
      "execution_count": null,
      "outputs": []
    },
    {
      "cell_type": "code",
      "source": [
        "tf.head()"
      ],
      "metadata": {
        "id": "fcuQBeAQt8jZ"
      },
      "execution_count": null,
      "outputs": []
    },
    {
      "cell_type": "code",
      "source": [
        "tf.sort_values(by=\"Age\")"
      ],
      "metadata": {
        "id": "DzLe2TrCu292"
      },
      "execution_count": null,
      "outputs": []
    },
    {
      "cell_type": "code",
      "source": [
        "df = pd.read_csv(\"data/hospital_info.csv\")"
      ],
      "metadata": {
        "id": "sA9LEGgqu1mj"
      },
      "execution_count": null,
      "outputs": []
    },
    {
      "cell_type": "code",
      "source": [
        "df.info()"
      ],
      "metadata": {
        "id": "q70-S72oyoJG"
      },
      "execution_count": null,
      "outputs": []
    },
    {
      "cell_type": "markdown",
      "source": [
        "วิธีการเรียง"
      ],
      "metadata": {
        "id": "wvDbAAK6wiLt"
      }
    },
    {
      "cell_type": "code",
      "source": [
        "df.sort_values(by=['mname','dname'], ascending=[False,False])"
      ],
      "metadata": {
        "id": "A1r9uNwdvHGK"
      },
      "execution_count": null,
      "outputs": []
    },
    {
      "cell_type": "markdown",
      "source": [
        "Selected data"
      ],
      "metadata": {
        "id": "gx9mwLbRwlgL"
      }
    },
    {
      "cell_type": "code",
      "source": [
        "df[['hospcode', 'hospname', 'haslatlog', 'lat', 'long']]"
      ],
      "metadata": {
        "id": "ym0fn9C_vtG_"
      },
      "execution_count": null,
      "outputs": []
    },
    {
      "cell_type": "markdown",
      "source": [
        "contition"
      ],
      "metadata": {
        "id": "dVt248k9wpbs"
      }
    },
    {
      "cell_type": "code",
      "source": [
        "df[(df['mname'] == 'กระทรวงสาธารณสุข') & (df['haslatlog'] == 'Y') ]"
      ],
      "metadata": {
        "id": "_wFhNcoDwuRV"
      },
      "execution_count": null,
      "outputs": []
    },
    {
      "cell_type": "code",
      "source": [
        "df[(df['mname'] == 'กระทรวงสาธารณสุข') & pd.isna(df['lat']) ]"
      ],
      "metadata": {
        "id": "y0PKn8gRxt1T"
      },
      "execution_count": null,
      "outputs": []
    },
    {
      "cell_type": "code",
      "source": [
        "df[df['mname'].isin(['กระทรวงสาธารณสุข', 'กรุงเทพมหานคร'])]"
      ],
      "metadata": {
        "id": "Zbt1hRDG4RVn"
      },
      "execution_count": null,
      "outputs": []
    },
    {
      "cell_type": "code",
      "source": [
        "df[df['hospname'].str.contains('ค่าย')]"
      ],
      "metadata": {
        "id": "qv8atDPl6OTx"
      },
      "execution_count": null,
      "outputs": []
    },
    {
      "cell_type": "code",
      "source": [
        "df.rename(columns={\"mname\": 'ministry_name'},inplace =True)"
      ],
      "metadata": {
        "id": "CJkl7o3o6Pw1"
      },
      "execution_count": null,
      "outputs": []
    },
    {
      "cell_type": "markdown",
      "source": [
        "Joining multiple DataFrames"
      ],
      "metadata": {
        "id": "VSJLHcJJ7ujm"
      }
    },
    {
      "cell_type": "code",
      "source": [
        "chospital = pd.read_csv(\"data/chospital.csv\")"
      ],
      "metadata": {
        "id": "qI_IRTE5702D"
      },
      "execution_count": null,
      "outputs": []
    },
    {
      "cell_type": "code",
      "source": [
        "chospital.info()"
      ],
      "metadata": {
        "id": "BPHkUXlE9LxG"
      },
      "execution_count": null,
      "outputs": []
    },
    {
      "cell_type": "code",
      "source": [
        "services = pd.read_csv(\"data/service.csv\", dtype={\"hospcode\": str})"
      ],
      "metadata": {
        "id": "kJotKpJ179yU"
      },
      "execution_count": null,
      "outputs": []
    },
    {
      "cell_type": "code",
      "source": [
        "services.info()"
      ],
      "metadata": {
        "id": "HOlODRgv9QWz"
      },
      "execution_count": null,
      "outputs": []
    },
    {
      "cell_type": "code",
      "source": [
        "result = services.merge(chospital, on=\"hospcode\", how=\"left\")[[\"hospital_name\"] + list(services.columns)]"
      ],
      "metadata": {
        "id": "aaM-7E6U8Ft-"
      },
      "execution_count": null,
      "outputs": []
    },
    {
      "cell_type": "code",
      "source": [
        "result.to_csv(\"result.csv\", index=None)"
      ],
      "metadata": {
        "id": "8R8rdq9GCzkv",
        "colab": {
          "base_uri": "https://localhost:8080/",
          "height": 141
        },
        "outputId": "ef4fe9fc-38df-49f1-ce03-485882b84dec"
      },
      "execution_count": 1,
      "outputs": [
        {
          "output_type": "error",
          "ename": "NameError",
          "evalue": "name 'result' is not defined",
          "traceback": [
            "\u001b[0;31m---------------------------------------------------------------------------\u001b[0m",
            "\u001b[0;31mNameError\u001b[0m                                 Traceback (most recent call last)",
            "\u001b[0;32m<ipython-input-1-e895d0d251dc>\u001b[0m in \u001b[0;36m<cell line: 1>\u001b[0;34m()\u001b[0m\n\u001b[0;32m----> 1\u001b[0;31m \u001b[0mresult\u001b[0m\u001b[0;34m.\u001b[0m\u001b[0mto_csv\u001b[0m\u001b[0;34m(\u001b[0m\u001b[0;34m\"result.csv\"\u001b[0m\u001b[0;34m,\u001b[0m \u001b[0mindex\u001b[0m\u001b[0;34m=\u001b[0m\u001b[0;32mNone\u001b[0m\u001b[0;34m)\u001b[0m\u001b[0;34m\u001b[0m\u001b[0;34m\u001b[0m\u001b[0m\n\u001b[0m",
            "\u001b[0;31mNameError\u001b[0m: name 'result' is not defined"
          ]
        }
      ]
    }
  ]
}