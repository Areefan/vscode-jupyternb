{
 "cells": [
  {
   "cell_type": "code",
   "execution_count": 1,
   "metadata": {},
   "outputs": [],
   "source": [
    "import pandas as pd\n",
    "import matplotlib.pyplot as plt\n",
    "import seaborn as sns\n",
    "import numpy as np"
   ]
  },
  {
   "cell_type": "code",
   "execution_count": 2,
   "metadata": {},
   "outputs": [],
   "source": [
    "import matplotlib as mpl\n",
    "mpl.font_manager.fontManager.addfont(\"data/EDA_files/thsarabunnew-webfont.ttf\")\n",
    "mpl.rc('font', family=\"TH Sarabun New\", size=10)"
   ]
  },
  {
   "cell_type": "code",
   "execution_count": null,
   "metadata": {},
   "outputs": [],
   "source": [
    "ncd = pd.read_csv(\"data/EDA_files/ncd_screen.csv\")\n",
    "ncd.head()"
   ]
  },
  {
   "cell_type": "markdown",
   "metadata": {},
   "source": []
  },
  {
   "cell_type": "code",
   "execution_count": 7,
   "metadata": {},
   "outputs": [
    {
     "data": {
      "image/png": "[encoded data removed]",
      "text/plain": [
       "<Figure size 1000x100 with 1 Axes>"
      ]
     },
     "metadata": {},
     "output_type": "display_data"
    }
   ],
   "source": [
    "plt.figure(figsize=(10,1))\n",
    "sns.boxplot(ncd, x = ncd['height'])\n",
    "plt.show()"
   ]
  },
  {
   "cell_type": "code",
   "execution_count": null,
   "metadata": {},
   "outputs": [],
   "source": [
    "ncd[(ncd['height'] < 100) | (ncd['height'] > 200)]"
   ]
  },
  {
   "cell_type": "code",
   "execution_count": 14,
   "metadata": {},
   "outputs": [],
   "source": [
    "hosp = pd.DataFrame(ncd['hospcode'].unique()) "
   ]
  },
  {
   "cell_type": "code",
   "execution_count": 15,
   "metadata": {},
   "outputs": [],
   "source": [
    "ncd['bslevel_status'] = ncd['bslevel'].map(lambda s: '0' if s == 0 else '1' if 1 <= s < 100 else \"2\" if 100 <= s <= 125 else \"3\" if s >= 126 else '0' )"
   ]
  },
  {
   "cell_type": "code",
   "execution_count": null,
   "metadata": {},
   "outputs": [],
   "source": [
    "ncd.head()"
   ]
  },
  {
   "cell_type": "code",
   "execution_count": 347,
   "metadata": {},
   "outputs": [
    {
     "data": {
      "text/html": [
       "<div>\n",
       "<style scoped>\n",
       "    .dataframe tbody tr th:only-of-type {\n",
       "        vertical-align: middle;\n",
       "    }\n",
       "\n",
       "    .dataframe tbody tr th {\n",
       "        vertical-align: top;\n",
       "    }\n",
       "\n",
       "    .dataframe thead th {\n",
       "        text-align: right;\n",
       "    }\n",
       "</style>\n",
       "<table border=\"1\" class=\"dataframe\">\n",
       "  <thead>\n",
       "    <tr style=\"text-align: right;\">\n",
       "      <th></th>\n",
       "      <th>hospcode</th>\n",
       "      <th>0</th>\n",
       "      <th>1</th>\n",
       "      <th>2</th>\n",
       "      <th>3</th>\n",
       "    </tr>\n",
       "  </thead>\n",
       "  <tbody>\n",
       "    <tr>\n",
       "      <th>0</th>\n",
       "      <td>11018</td>\n",
       "      <td>1</td>\n",
       "      <td>672</td>\n",
       "      <td>100</td>\n",
       "      <td>53</td>\n",
       "    </tr>\n",
       "    <tr>\n",
       "      <th>1</th>\n",
       "      <td>11013</td>\n",
       "      <td>0</td>\n",
       "      <td>115</td>\n",
       "      <td>73</td>\n",
       "      <td>75</td>\n",
       "    </tr>\n",
       "    <tr>\n",
       "      <th>2</th>\n",
       "      <td>77764</td>\n",
       "      <td>4</td>\n",
       "      <td>167</td>\n",
       "      <td>61</td>\n",
       "      <td>12</td>\n",
       "    </tr>\n",
       "    <tr>\n",
       "      <th>3</th>\n",
       "      <td>13777</td>\n",
       "      <td>0</td>\n",
       "      <td>25</td>\n",
       "      <td>49</td>\n",
       "      <td>130</td>\n",
       "    </tr>\n",
       "    <tr>\n",
       "      <th>4</th>\n",
       "      <td>77745</td>\n",
       "      <td>1</td>\n",
       "      <td>93</td>\n",
       "      <td>35</td>\n",
       "      <td>23</td>\n",
       "    </tr>\n",
       "  </tbody>\n",
       "</table>\n",
       "</div>"
      ],
      "text/plain": [
       "   hospcode  0    1    2    3\n",
       "0     11018  1  672  100   53\n",
       "1     11013  0  115   73   75\n",
       "2     77764  4  167   61   12\n",
       "3     13777  0   25   49  130\n",
       "4     77745  1   93   35   23"
      ]
     },
     "execution_count": 347,
     "metadata": {},
     "output_type": "execute_result"
    }
   ],
   "source": [
    "df_tab = pd.crosstab(ncd[\"hospcode\"],ncd[\"bslevel_status\"])\n",
    "df_tab = df_tab.sort_values(by=\"2\", ascending=[False]).head(5)\n",
    "df = df_tab.reset_index().rename_axis(columns = None)\n",
    "df"
   ]
  },
  {
   "cell_type": "code",
   "execution_count": 379,
   "metadata": {},
   "outputs": [
    {
     "data": {
      "text/html": [
       "<div>\n",
       "<style scoped>\n",
       "    .dataframe tbody tr th:only-of-type {\n",
       "        vertical-align: middle;\n",
       "    }\n",
       "\n",
       "    .dataframe tbody tr th {\n",
       "        vertical-align: top;\n",
       "    }\n",
       "\n",
       "    .dataframe thead th {\n",
       "        text-align: right;\n",
       "    }\n",
       "</style>\n",
       "<table border=\"1\" class=\"dataframe\">\n",
       "  <thead>\n",
       "    <tr style=\"text-align: right;\">\n",
       "      <th></th>\n",
       "      <th>hospital</th>\n",
       "      <th>total</th>\n",
       "    </tr>\n",
       "  </thead>\n",
       "  <tbody>\n",
       "    <tr>\n",
       "      <th>3</th>\n",
       "      <td>13777</td>\n",
       "      <td>179</td>\n",
       "    </tr>\n",
       "    <tr>\n",
       "      <th>0</th>\n",
       "      <td>11018</td>\n",
       "      <td>153</td>\n",
       "    </tr>\n",
       "    <tr>\n",
       "      <th>1</th>\n",
       "      <td>11013</td>\n",
       "      <td>148</td>\n",
       "    </tr>\n",
       "    <tr>\n",
       "      <th>2</th>\n",
       "      <td>77764</td>\n",
       "      <td>73</td>\n",
       "    </tr>\n",
       "    <tr>\n",
       "      <th>4</th>\n",
       "      <td>77745</td>\n",
       "      <td>58</td>\n",
       "    </tr>\n",
       "  </tbody>\n",
       "</table>\n",
       "</div>"
      ],
      "text/plain": [
       "   hospital  total\n",
       "3     13777    179\n",
       "0     11018    153\n",
       "1     11013    148\n",
       "2     77764     73\n",
       "4     77745     58"
      ]
     },
     "execution_count": 379,
     "metadata": {},
     "output_type": "execute_result"
    }
   ],
   "source": [
    "cap = {\n",
    "  \"hospital\" : df['hospcode'],\n",
    "  \"total\" : df['2'] + df['3']\n",
    "}\n",
    "# cap = cap.sort_values('total', ascending=False)\n",
    "cap = pd.DataFrame(cap)\n",
    "cap = cap.sort_values('total', ascending=False)\n",
    "cap"
   ]
  },
  {
   "cell_type": "code",
   "execution_count": 386,
   "metadata": {},
   "outputs": [
    {
     "data": {
      "image/png": "[encoded data removed]",
      "text/plain": [
       "<Figure size 640x480 with 1 Axes>"
      ]
     },
     "metadata": {},
     "output_type": "display_data"
    }
   ],
   "source": [
    "# เรียง ยังใช้ไม่ได้\n",
    "fig, ax = plt.subplots(1,1)\n",
    "# sns.barplot(data = cap,x=cap['hospital'], y=cap['total'], order=cap['total'])\n",
    "sns.barplot(x='hospital', y='total', data=cap)\n",
    "ax.set_title(\" 5 อันดับหน่วยบริการ ที่พบประชากรที่ได้รับการคัดกรองและเสี่ยงต่อโรคเบาหวาน\")\n",
    "ax.set_ylabel(\"จำนวน/คน\")\n",
    "plt.show()"
   ]
  },
  {
   "cell_type": "code",
   "execution_count": 372,
   "metadata": {},
   "outputs": [
    {
     "data": {
      "image/png": "[encoded data removed]",
      "text/plain": [
       "<Figure size 640x480 with 1 Axes>"
      ]
     },
     "metadata": {},
     "output_type": "display_data"
    }
   ],
   "source": [
    "ax = sns.barplot(df, x=df['hospcode'], y=df['3'] + df['2'])\n",
    "ax.bar_label(ax.containers[0])\n",
    "ax.set_title(\" 5 อันดับหน่วยบริการ ที่พบประชากรที่ได้รับการคัดกรองและเสี่ยงต่อโรคเบาหวาน\")\n",
    "plt.show()"
   ]
  },
  {
   "cell_type": "code",
   "execution_count": 219,
   "metadata": {},
   "outputs": [],
   "source": [
    "sum_counts = df[\"1\"] + df[\"2\"] + df[\"3\"]\n",
    "bs_levels = {\n",
    "  \"ปกติ\": df[\"1\"] /sum_counts *100,\n",
    "  \"เสี่ยง\" : df[\"2\"] /sum_counts *100,\n",
    "  \"เป็นเบาหวาน\" : df[\"3\"] /sum_counts *100\n",
    "}"
   ]
  },
  {
   "cell_type": "code",
   "execution_count": 217,
   "metadata": {},
   "outputs": [
    {
     "data": {
      "text/plain": [
       "0    13777\n",
       "1    11013\n",
       "2    11018\n",
       "3    77690\n",
       "4    25059\n",
       "Name: index, dtype: string"
      ]
     },
     "execution_count": 217,
     "metadata": {},
     "output_type": "execute_result"
    }
   ],
   "source": [
    "hosp_group = df[\"index\"]\n",
    "hosp_group = hosp_group.astype('int64').astype('string')\n",
    "hosp_group"
   ]
  },
  {
   "cell_type": "code",
   "execution_count": 218,
   "metadata": {},
   "outputs": [
    {
     "data": {
      "text/plain": [
       "<matplotlib.legend.Legend at 0x15bce26f7a0>"
      ]
     },
     "execution_count": 218,
     "metadata": {},
     "output_type": "execute_result"
    },
    {
     "data": {
      "image/png": "[encoded data removed]",
      "text/plain": [
       "<Figure size 640x480 with 1 Axes>"
      ]
     },
     "metadata": {},
     "output_type": "display_data"
    }
   ],
   "source": [
    "width = 0.6\n",
    "fig, ax = plt.subplots()\n",
    "bottom = np.zeros(len(hosp_group))\n",
    "\n",
    "for status, bs_level in bs_levels.items():\n",
    "  container = ax.bar(x=hosp_group, height =bs_level, width=width, label=status, bottom=bottom)\n",
    "  bottom += bs_level\n",
    "  ax.bar_label(container,label_type=\"center\")\n",
    "ax.set_title(\"ร้อยละของผู้มารับบริการที่เป็นเบาหวานในแต่ละหน่วบริการ\")\n",
    "ax.legend()"
   ]
  },
  {
   "cell_type": "markdown",
   "metadata": {},
   "source": [
    "### ผู้ที่มีความเสี่ยง Hypertension (SBP ≥ 140 หรือ DBP ≥ 90)"
   ]
  },
  {
   "cell_type": "code",
   "execution_count": 263,
   "metadata": {},
   "outputs": [],
   "source": [
    "def flag_df(ncd):\n",
    "    \n",
    "    if (ncd[\"sbp_1\"] >= 140) | (ncd[\"dbp_1\"] >= 90):\n",
    "        return '1'\n",
    "    else :\n",
    "        return '0'\n",
    "    \n",
    "ncd['ht_status'] = ncd.apply(flag_df, axis = 1)"
   ]
  },
  {
   "cell_type": "code",
   "execution_count": 264,
   "metadata": {},
   "outputs": [
    {
     "data": {
      "text/html": [
       "<div>\n",
       "<style scoped>\n",
       "    .dataframe tbody tr th:only-of-type {\n",
       "        vertical-align: middle;\n",
       "    }\n",
       "\n",
       "    .dataframe tbody tr th {\n",
       "        vertical-align: top;\n",
       "    }\n",
       "\n",
       "    .dataframe thead th {\n",
       "        text-align: right;\n",
       "    }\n",
       "</style>\n",
       "<table border=\"1\" class=\"dataframe\">\n",
       "  <thead>\n",
       "    <tr style=\"text-align: right;\">\n",
       "      <th></th>\n",
       "      <th>hospcode</th>\n",
       "      <th>pid</th>\n",
       "      <th>seq</th>\n",
       "      <th>ncd_screen_date_serv</th>\n",
       "      <th>servplace</th>\n",
       "      <th>smoke</th>\n",
       "      <th>alcohol</th>\n",
       "      <th>dmfamily</th>\n",
       "      <th>htfamily</th>\n",
       "      <th>weight</th>\n",
       "      <th>...</th>\n",
       "      <th>sbp_1</th>\n",
       "      <th>dbp_1</th>\n",
       "      <th>sbp_2</th>\n",
       "      <th>dbp_2</th>\n",
       "      <th>bslevel</th>\n",
       "      <th>bstest</th>\n",
       "      <th>screenplace</th>\n",
       "      <th>bslevel_status</th>\n",
       "      <th>ht_status</th>\n",
       "      <th>byear</th>\n",
       "    </tr>\n",
       "  </thead>\n",
       "  <tbody>\n",
       "    <tr>\n",
       "      <th>0</th>\n",
       "      <td>11023</td>\n",
       "      <td>008765</td>\n",
       "      <td>3499362</td>\n",
       "      <td>12/2/2013</td>\n",
       "      <td>1</td>\n",
       "      <td>1.0</td>\n",
       "      <td>1.0</td>\n",
       "      <td>9.0</td>\n",
       "      <td>1.0</td>\n",
       "      <td>55.0</td>\n",
       "      <td>...</td>\n",
       "      <td>113</td>\n",
       "      <td>68</td>\n",
       "      <td>110.0</td>\n",
       "      <td>89.0</td>\n",
       "      <td>86.0</td>\n",
       "      <td>3.0</td>\n",
       "      <td>11023</td>\n",
       "      <td>1</td>\n",
       "      <td>0</td>\n",
       "      <td>2013</td>\n",
       "    </tr>\n",
       "    <tr>\n",
       "      <th>1</th>\n",
       "      <td>11024</td>\n",
       "      <td>017330</td>\n",
       "      <td>1841142</td>\n",
       "      <td>12/16/2015</td>\n",
       "      <td>1</td>\n",
       "      <td>1.0</td>\n",
       "      <td>1.0</td>\n",
       "      <td>2.0</td>\n",
       "      <td>2.0</td>\n",
       "      <td>46.0</td>\n",
       "      <td>...</td>\n",
       "      <td>120</td>\n",
       "      <td>60</td>\n",
       "      <td>120.0</td>\n",
       "      <td>60.0</td>\n",
       "      <td>130.0</td>\n",
       "      <td>3.0</td>\n",
       "      <td>11024</td>\n",
       "      <td>3</td>\n",
       "      <td>0</td>\n",
       "      <td>2015</td>\n",
       "    </tr>\n",
       "    <tr>\n",
       "      <th>2</th>\n",
       "      <td>12418</td>\n",
       "      <td>049945</td>\n",
       "      <td>705117</td>\n",
       "      <td>7/9/2020</td>\n",
       "      <td>1</td>\n",
       "      <td>1.0</td>\n",
       "      <td>1.0</td>\n",
       "      <td>2.0</td>\n",
       "      <td>2.0</td>\n",
       "      <td>52.0</td>\n",
       "      <td>...</td>\n",
       "      <td>110</td>\n",
       "      <td>59</td>\n",
       "      <td>110.0</td>\n",
       "      <td>60.0</td>\n",
       "      <td>88.0</td>\n",
       "      <td>3.0</td>\n",
       "      <td>12418</td>\n",
       "      <td>1</td>\n",
       "      <td>0</td>\n",
       "      <td>2020</td>\n",
       "    </tr>\n",
       "    <tr>\n",
       "      <th>3</th>\n",
       "      <td>12418</td>\n",
       "      <td>055877</td>\n",
       "      <td>693664</td>\n",
       "      <td>9/1/2020</td>\n",
       "      <td>1</td>\n",
       "      <td>1.0</td>\n",
       "      <td>1.0</td>\n",
       "      <td>2.0</td>\n",
       "      <td>2.0</td>\n",
       "      <td>50.0</td>\n",
       "      <td>...</td>\n",
       "      <td>100</td>\n",
       "      <td>65</td>\n",
       "      <td>100.0</td>\n",
       "      <td>60.0</td>\n",
       "      <td>85.0</td>\n",
       "      <td>3.0</td>\n",
       "      <td>12418</td>\n",
       "      <td>1</td>\n",
       "      <td>0</td>\n",
       "      <td>2020</td>\n",
       "    </tr>\n",
       "    <tr>\n",
       "      <th>4</th>\n",
       "      <td>12418</td>\n",
       "      <td>053288</td>\n",
       "      <td>705105</td>\n",
       "      <td>7/9/2020</td>\n",
       "      <td>1</td>\n",
       "      <td>1.0</td>\n",
       "      <td>1.0</td>\n",
       "      <td>2.0</td>\n",
       "      <td>2.0</td>\n",
       "      <td>56.0</td>\n",
       "      <td>...</td>\n",
       "      <td>110</td>\n",
       "      <td>63</td>\n",
       "      <td>110.0</td>\n",
       "      <td>63.0</td>\n",
       "      <td>85.0</td>\n",
       "      <td>3.0</td>\n",
       "      <td>12418</td>\n",
       "      <td>1</td>\n",
       "      <td>0</td>\n",
       "      <td>2020</td>\n",
       "    </tr>\n",
       "  </tbody>\n",
       "</table>\n",
       "<p>5 rows × 22 columns</p>\n",
       "</div>"
      ],
      "text/plain": [
       "   hospcode     pid      seq ncd_screen_date_serv  servplace  smoke  alcohol  \\\n",
       "0     11023  008765  3499362            12/2/2013          1    1.0      1.0   \n",
       "1     11024  017330  1841142           12/16/2015          1    1.0      1.0   \n",
       "2     12418  049945   705117             7/9/2020          1    1.0      1.0   \n",
       "3     12418  055877   693664             9/1/2020          1    1.0      1.0   \n",
       "4     12418  053288   705105             7/9/2020          1    1.0      1.0   \n",
       "\n",
       "   dmfamily  htfamily  weight  ...  sbp_1  dbp_1  sbp_2  dbp_2  bslevel  \\\n",
       "0       9.0       1.0    55.0  ...    113     68  110.0   89.0     86.0   \n",
       "1       2.0       2.0    46.0  ...    120     60  120.0   60.0    130.0   \n",
       "2       2.0       2.0    52.0  ...    110     59  110.0   60.0     88.0   \n",
       "3       2.0       2.0    50.0  ...    100     65  100.0   60.0     85.0   \n",
       "4       2.0       2.0    56.0  ...    110     63  110.0   63.0     85.0   \n",
       "\n",
       "   bstest  screenplace  bslevel_status  ht_status byear  \n",
       "0     3.0        11023               1          0  2013  \n",
       "1     3.0        11024               3          0  2015  \n",
       "2     3.0        12418               1          0  2020  \n",
       "3     3.0        12418               1          0  2020  \n",
       "4     3.0        12418               1          0  2020  \n",
       "\n",
       "[5 rows x 22 columns]"
      ]
     },
     "execution_count": 264,
     "metadata": {},
     "output_type": "execute_result"
    }
   ],
   "source": [
    "ncd.head()"
   ]
  },
  {
   "cell_type": "code",
   "execution_count": 265,
   "metadata": {},
   "outputs": [
    {
     "data": {
      "text/html": [
       "<div>\n",
       "<style scoped>\n",
       "    .dataframe tbody tr th:only-of-type {\n",
       "        vertical-align: middle;\n",
       "    }\n",
       "\n",
       "    .dataframe tbody tr th {\n",
       "        vertical-align: top;\n",
       "    }\n",
       "\n",
       "    .dataframe thead th {\n",
       "        text-align: right;\n",
       "    }\n",
       "</style>\n",
       "<table border=\"1\" class=\"dataframe\">\n",
       "  <thead>\n",
       "    <tr style=\"text-align: right;\">\n",
       "      <th></th>\n",
       "      <th>byear</th>\n",
       "      <th>0</th>\n",
       "      <th>1</th>\n",
       "    </tr>\n",
       "  </thead>\n",
       "  <tbody>\n",
       "    <tr>\n",
       "      <th>0</th>\n",
       "      <td>2011</td>\n",
       "      <td>2</td>\n",
       "      <td>1</td>\n",
       "    </tr>\n",
       "    <tr>\n",
       "      <th>1</th>\n",
       "      <td>2012</td>\n",
       "      <td>291</td>\n",
       "      <td>36</td>\n",
       "    </tr>\n",
       "    <tr>\n",
       "      <th>2</th>\n",
       "      <td>2013</td>\n",
       "      <td>534</td>\n",
       "      <td>77</td>\n",
       "    </tr>\n",
       "    <tr>\n",
       "      <th>3</th>\n",
       "      <td>2014</td>\n",
       "      <td>414</td>\n",
       "      <td>34</td>\n",
       "    </tr>\n",
       "    <tr>\n",
       "      <th>4</th>\n",
       "      <td>2015</td>\n",
       "      <td>457</td>\n",
       "      <td>22</td>\n",
       "    </tr>\n",
       "    <tr>\n",
       "      <th>5</th>\n",
       "      <td>2016</td>\n",
       "      <td>571</td>\n",
       "      <td>61</td>\n",
       "    </tr>\n",
       "    <tr>\n",
       "      <th>6</th>\n",
       "      <td>2017</td>\n",
       "      <td>581</td>\n",
       "      <td>95</td>\n",
       "    </tr>\n",
       "    <tr>\n",
       "      <th>7</th>\n",
       "      <td>2018</td>\n",
       "      <td>520</td>\n",
       "      <td>74</td>\n",
       "    </tr>\n",
       "    <tr>\n",
       "      <th>8</th>\n",
       "      <td>2019</td>\n",
       "      <td>554</td>\n",
       "      <td>45</td>\n",
       "    </tr>\n",
       "    <tr>\n",
       "      <th>9</th>\n",
       "      <td>2020</td>\n",
       "      <td>799</td>\n",
       "      <td>73</td>\n",
       "    </tr>\n",
       "    <tr>\n",
       "      <th>10</th>\n",
       "      <td>2021</td>\n",
       "      <td>677</td>\n",
       "      <td>144</td>\n",
       "    </tr>\n",
       "    <tr>\n",
       "      <th>11</th>\n",
       "      <td>2022</td>\n",
       "      <td>442</td>\n",
       "      <td>83</td>\n",
       "    </tr>\n",
       "    <tr>\n",
       "      <th>12</th>\n",
       "      <td>2023</td>\n",
       "      <td>8</td>\n",
       "      <td>3</td>\n",
       "    </tr>\n",
       "  </tbody>\n",
       "</table>\n",
       "</div>"
      ],
      "text/plain": [
       "   byear    0    1\n",
       "0   2011    2    1\n",
       "1   2012  291   36\n",
       "2   2013  534   77\n",
       "3   2014  414   34\n",
       "4   2015  457   22\n",
       "5   2016  571   61\n",
       "6   2017  581   95\n",
       "7   2018  520   74\n",
       "8   2019  554   45\n",
       "9   2020  799   73\n",
       "10  2021  677  144\n",
       "11  2022  442   83\n",
       "12  2023    8    3"
      ]
     },
     "execution_count": 265,
     "metadata": {},
     "output_type": "execute_result"
    }
   ],
   "source": [
    "ht_tab = pd.crosstab(ncd[\"byear\"],ncd[\"ht_status\"])\n",
    "ht_tab = ht_tab.sort_values(by=\"byear\", ascending=[True])\n",
    "ht = ht_tab.reset_index().rename_axis(columns = None)\n",
    "ht"
   ]
  },
  {
   "cell_type": "code",
   "execution_count": 266,
   "metadata": {},
   "outputs": [],
   "source": [
    "ht['byear'] = ht['byear'].astype(str).astype(int)\n",
    "ht['byear'] = ht['byear'] + 543"
   ]
  },
  {
   "cell_type": "code",
   "execution_count": 273,
   "metadata": {},
   "outputs": [
    {
     "data": {
      "text/plain": [
       "{'ปกติ': 0     66.67\n",
       " 1     88.99\n",
       " 2     87.40\n",
       " 3     92.41\n",
       " 4     95.41\n",
       " 5     90.35\n",
       " 6     85.95\n",
       " 7     87.54\n",
       " 8     92.49\n",
       " 9     91.63\n",
       " 10    82.46\n",
       " 11    84.19\n",
       " 12    72.73\n",
       " dtype: float64,\n",
       " 'เสี่ยง': 0     33.33\n",
       " 1     11.01\n",
       " 2     12.60\n",
       " 3      7.59\n",
       " 4      4.59\n",
       " 5      9.65\n",
       " 6     14.05\n",
       " 7     12.46\n",
       " 8      7.51\n",
       " 9      8.37\n",
       " 10    17.54\n",
       " 11    15.81\n",
       " 12    27.27\n",
       " dtype: float64}"
      ]
     },
     "execution_count": 273,
     "metadata": {},
     "output_type": "execute_result"
    }
   ],
   "source": [
    "sum_counts = ht[\"0\"] + ht[\"1\"]\n",
    "ht_levels = {\n",
    "  \"ปกติ\": (ht[\"0\"] / sum_counts *100).round(2),\n",
    "  \"เสี่ยง\" : (ht[\"1\"] / sum_counts *100).round(2),\n",
    "}\n",
    "ht_levels"
   ]
  },
  {
   "cell_type": "code",
   "execution_count": 274,
   "metadata": {},
   "outputs": [
    {
     "data": {
      "text/plain": [
       "0     2554\n",
       "1     2555\n",
       "2     2556\n",
       "3     2557\n",
       "4     2558\n",
       "5     2559\n",
       "6     2560\n",
       "7     2561\n",
       "8     2562\n",
       "9     2563\n",
       "10    2564\n",
       "11    2565\n",
       "12    2566\n",
       "Name: byear, dtype: string"
      ]
     },
     "execution_count": 274,
     "metadata": {},
     "output_type": "execute_result"
    }
   ],
   "source": [
    "year_group = ht[\"byear\"]\n",
    "year_group = year_group.astype('int64').astype('string')\n",
    "year_group"
   ]
  },
  {
   "cell_type": "code",
   "execution_count": 280,
   "metadata": {},
   "outputs": [
    {
     "data": {
      "image/png": "[encoded data removed]",
      "text/plain": [
       "<Figure size 640x480 with 1 Axes>"
      ]
     },
     "metadata": {},
     "output_type": "display_data"
    }
   ],
   "source": [
    "width = 0.6\n",
    "fig, ax = plt.subplots()\n",
    "bottom = np.zeros(len(year_group))\n",
    "\n",
    "for status, ht_level in ht_levels.items():\n",
    "  container = ax.bar(x=year_group, height =ht_level, width=width, label=status, bottom=bottom)\n",
    "  bottom += ht_level\n",
    "  ax.bar_label(container,label_type=\"center\")\n",
    "ax.set_title(\"ร้อยละของผู้มารับบริการที่มีความเสี่ยงเป็นความดันโลหิตสูง\")\n",
    "\n",
    "# colors = {'ปกติ':'blue', 'เสี่ยง':'yellow'}         \n",
    "# labels = list(colors.keys())\n",
    "# handles = [plt.Rectangle((0,0),2,1, color=colors[label]) for label in labels]\n",
    "# plt.legend(handles, labels)\n",
    "ax.legend()\n",
    "plt.show()"
   ]
  },
  {
   "cell_type": "markdown",
   "metadata": {},
   "source": [
    "### ร้อยละการสูบบุหรี่ของคนที่คัดกรอง NCD"
   ]
  },
  {
   "cell_type": "code",
   "execution_count": 314,
   "metadata": {},
   "outputs": [],
   "source": [
    "def flag_smoke(ncd):\n",
    "    \n",
    "    if (ncd[\"smoke\"] == 2) | (ncd[\"smoke\"] == 3) | (ncd[\"smoke\"] == 4) :\n",
    "        return '1'\n",
    "    elif ncd[\"smoke\"] == 1 :\n",
    "      return '0'\n",
    "    else :\n",
    "        return '9'\n",
    "    \n",
    "ncd['smoke_status'] = ncd.apply(flag_smoke, axis = 1)"
   ]
  },
  {
   "cell_type": "code",
   "execution_count": 328,
   "metadata": {},
   "outputs": [
    {
     "data": {
      "text/html": [
       "<div>\n",
       "<style scoped>\n",
       "    .dataframe tbody tr th:only-of-type {\n",
       "        vertical-align: middle;\n",
       "    }\n",
       "\n",
       "    .dataframe tbody tr th {\n",
       "        vertical-align: top;\n",
       "    }\n",
       "\n",
       "    .dataframe thead th {\n",
       "        text-align: right;\n",
       "    }\n",
       "</style>\n",
       "<table border=\"1\" class=\"dataframe\">\n",
       "  <thead>\n",
       "    <tr style=\"text-align: right;\">\n",
       "      <th></th>\n",
       "      <th>smoke_status</th>\n",
       "      <th>0</th>\n",
       "      <th>1</th>\n",
       "      <th>9</th>\n",
       "    </tr>\n",
       "  </thead>\n",
       "  <tbody>\n",
       "    <tr>\n",
       "      <th>0</th>\n",
       "      <td>0</td>\n",
       "      <td>5520</td>\n",
       "      <td>0</td>\n",
       "      <td>0</td>\n",
       "    </tr>\n",
       "    <tr>\n",
       "      <th>1</th>\n",
       "      <td>1</td>\n",
       "      <td>0</td>\n",
       "      <td>242</td>\n",
       "      <td>0</td>\n",
       "    </tr>\n",
       "    <tr>\n",
       "      <th>2</th>\n",
       "      <td>9</td>\n",
       "      <td>0</td>\n",
       "      <td>0</td>\n",
       "      <td>836</td>\n",
       "    </tr>\n",
       "  </tbody>\n",
       "</table>\n",
       "</div>"
      ],
      "text/plain": [
       "  smoke_status     0    1    9\n",
       "0            0  5520    0    0\n",
       "1            1     0  242    0\n",
       "2            9     0    0  836"
      ]
     },
     "execution_count": 328,
     "metadata": {},
     "output_type": "execute_result"
    }
   ],
   "source": [
    "smoke_tab = pd.crosstab(ncd[\"smoke_status\"],ncd[\"smoke_status\"])\n",
    "smoke_tab = smoke_tab.sort_values(by=\"smoke_status\", ascending=[True])\n",
    "smokes = smoke_tab.reset_index().rename_axis(columns = None)\n",
    "smokes"
   ]
  },
  {
   "cell_type": "code",
   "execution_count": 335,
   "metadata": {},
   "outputs": [
    {
     "data": {
      "text/plain": [
       "0    ไม่สูบบุหรี่\n",
       "1       สูบบุหรี่\n",
       "2     ไม่มีข้อมูล\n",
       "Name: smoke_status, dtype: object"
      ]
     },
     "execution_count": 335,
     "metadata": {},
     "output_type": "execute_result"
    }
   ],
   "source": [
    "smoke_group = smokes[\"smoke_status\"]\n",
    "smoke_group = smoke_group.map(lambda s: 'ไม่สูบบุหรี่' if s == '0' else 'สูบบุหรี่' if  s == '1' else \"ไม่มีข้อมูล\")\n",
    "sum_counts = smokes[\"0\"] + smokes[\"1\"] + smokes[\"9\"] \n",
    "smoke_group"
   ]
  },
  {
   "cell_type": "code",
   "execution_count": 336,
   "metadata": {},
   "outputs": [],
   "source": [
    "colors = sns.color_palette('pastel')[0:5]"
   ]
  },
  {
   "cell_type": "code",
   "execution_count": 339,
   "metadata": {},
   "outputs": [
    {
     "data": {
      "image/png": "[encoded data removed]",
      "text/plain": [
       "<Figure size 640x480 with 1 Axes>"
      ]
     },
     "metadata": {},
     "output_type": "display_data"
    }
   ],
   "source": [
    "fig, ax = plt.subplots()\n",
    "plt.pie(sum_counts, labels = smoke_group, autopct =\"%.1f%%\", colors = colors)\n",
    "ax.set_title(\"ร้อยละของผู้มารับบริการที่มีการสูบบุหรี่\")\n",
    "plt.show()"
   ]
  }
 ],
 "metadata": {
  "kernelspec": {
   "display_name": ".venv",
   "language": "python",
   "name": "python3"
  },
  "language_info": {
   "codemirror_mode": {
    "name": "ipython",
    "version": 3
   },
   "file_extension": ".py",
   "mimetype": "text/x-python",
   "name": "python",
   "nbconvert_exporter": "python",
   "pygments_lexer": "ipython3",
   "version": "3.12.2"
  }
 },
 "nbformat": 4,
 "nbformat_minor": 2
}
