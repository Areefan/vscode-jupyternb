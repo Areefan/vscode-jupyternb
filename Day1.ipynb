{
  "nbformat": 4,
  "nbformat_minor": 0,
  "metadata": {
    "colab": {
      "provenance": []
    },
    "kernelspec": {
      "name": "python3",
      "display_name": "Python 3"
    },
    "language_info": {
      "name": "python"
    }
  },
  "cells": [
    {
      "cell_type": "code",
      "source": [
        "import pandas as pd\n",
        "pd.options.display.max_columns = None"
      ],
      "metadata": {
        "id": "XGwzFqADx-Xr"
      },
      "execution_count": null,
      "outputs": []
    },
    {
      "cell_type": "markdown",
      "source": [
        "Check version pandas"
      ],
      "metadata": {
        "id": "BieKBxxiybJi"
      }
    },
    {
      "cell_type": "markdown",
      "source": [],
      "metadata": {
        "id": "2lW--wtrmtNz"
      }
    },
    {
      "cell_type": "code",
      "source": [
        "print(pd.__version__)"
      ],
      "metadata": {
        "colab": {
          "base_uri": "https://localhost:8080/"
        },
        "id": "afSXZs2nyC-6",
        "outputId": "8c120b00-e1e5-4184-a00d-79426cebfe98"
      },
      "execution_count": null,
      "outputs": [
        {
          "output_type": "stream",
          "name": "stdout",
          "text": [
            "1.5.3\n"
          ]
        }
      ]
    },
    {
      "cell_type": "code",
      "source": [
        "words = pd.read_csv(\"data/words.csv\")\n",
        "words"
      ],
      "metadata": {
        "id": "Oq2GlL3f-jQj"
      },
      "execution_count": null,
      "outputs": []
    },
    {
      "cell_type": "code",
      "source": [
        "def isPalindrome(s):\n",
        "    return s == s[::-1]"
      ],
      "metadata": {
        "id": "5FfGq3EP-_mE"
      },
      "execution_count": null,
      "outputs": []
    },
    {
      "cell_type": "code",
      "source": [
        "def isPalindromev2(str):\n",
        "    for i in range(0, int(len(str))):\n",
        "        old_word = str[i:i+3]\n",
        "        reversed_word = ''.join(reversed(str[i:i+3]))\n",
        "        print(old_word)\n",
        "        if len(old_word) >= 3:\n",
        "          if old_word == reversed_word:\n",
        "              return 'Yes'\n",
        "          else:\n",
        "            i+1\n",
        "        else:\n",
        "          return 'No'\n",
        "    return 'NO'"
      ],
      "metadata": {
        "id": "mRvpMZGjUx_7"
      },
      "execution_count": null,
      "outputs": []
    },
    {
      "cell_type": "code",
      "source": [
        "def isPalindromev3(str):\n",
        "    txt_space = str.replace(\" \",\"\")\n",
        "    txt_lower = txt_space.lower()\n",
        "    for i in range(0, int(len(txt_lower))):\n",
        "      for y in range(0, int(len(txt_lower))):\n",
        "        old_word = txt_lower[i:3+y+i]\n",
        "        reversed_word = ''.join(reversed(txt_lower[i:3+y+i]))\n",
        "        #print(old_word)\n",
        "        #print(reversed_word)\n",
        "        if len(old_word) >= 3:\n",
        "          if old_word == reversed_word:\n",
        "              return 'Yes'\n",
        "          else:\n",
        "            y+1\n",
        "        else:\n",
        "          return 'No'\n",
        "    return 'NO'"
      ],
      "metadata": {
        "id": "p4orGYq7cD79"
      },
      "execution_count": null,
      "outputs": []
    },
    {
      "cell_type": "code",
      "source": [
        "ans = isPalindromev3(\"abcdefgas ag\")\n",
        "ans"
      ],
      "metadata": {
        "colab": {
          "base_uri": "https://localhost:8080/",
          "height": 34
        },
        "id": "_yX4elNcAeQL",
        "outputId": "f62cec26-f564-4c49-8e40-6a2176fd7e0a"
      },
      "execution_count": null,
      "outputs": [
        {
          "output_type": "execute_result",
          "data": {
            "text/plain": [
              "'Yes'"
            ],
            "application/vnd.google.colaboratory.intrinsic+json": {
              "type": "string"
            }
          },
          "metadata": {},
          "execution_count": 18
        }
      ]
    },
    {
      "cell_type": "code",
      "source": [
        "ans = []\n",
        "for i in words['Word']:\n",
        "  ans.append(isPalindrome(i))\n",
        "words['Palindrome'] = ans\n",
        "words"
      ],
      "metadata": {
        "id": "7_gxd1npBres"
      },
      "execution_count": null,
      "outputs": []
    },
    {
      "cell_type": "code",
      "source": [
        "word2 = pd.read_csv(\"data/words2.csv\")\n",
        "word2"
      ],
      "metadata": {
        "id": "HX-sDhL1G0_2"
      },
      "execution_count": null,
      "outputs": []
    },
    {
      "cell_type": "code",
      "source": [
        "res = []\n",
        "for i in word2['Word']:\n",
        "  res.append(isPalindrome(i.replace(\" \", \"\")))\n",
        "word2['Palindrome'] = res\n",
        "\n",
        "word2"
      ],
      "metadata": {
        "id": "ZGGtPsWsHI4Q"
      },
      "execution_count": null,
      "outputs": []
    },
    {
      "cell_type": "code",
      "source": [],
      "metadata": {
        "id": "4wVacD_wL0fe"
      },
      "execution_count": null,
      "outputs": []
    },
    {
      "cell_type": "code",
      "source": [
        "word3 = pd.read_csv(\"data/words3.csv\")\n",
        "word3"
      ],
      "metadata": {
        "id": "SV21nZ49LgAo"
      },
      "execution_count": null,
      "outputs": []
    },
    {
      "cell_type": "code",
      "source": [
        "res3 = []\n",
        "for word in word3['Word']:\n",
        "  res3.append(isPalindromev3(word))\n",
        "word3['Palindrome'] = res3\n",
        "\n",
        "word3"
      ],
      "metadata": {
        "id": "GzJx3lD6L16y"
      },
      "execution_count": null,
      "outputs": []
    },
    {
      "cell_type": "code",
      "source": [
        "def isSubpalidrome(test_str):\n",
        "  test_str = test_str.replace(\" \",\"\")\n",
        "  substring = []\n",
        "  for i in range(0, len(test_str)):\n",
        "    for j in range(i + 1, len(test_str) + 1):\n",
        "      substring.append(test_str[i:j])\n",
        "\n",
        "  for s in substring:\n",
        "    if s == s[::-1] and len(s) >= 3:\n",
        "      return 'Yes'\n",
        "  return 'No'"
      ],
      "metadata": {
        "id": "vdYDGNOW3orR"
      },
      "execution_count": null,
      "outputs": []
    },
    {
      "cell_type": "code",
      "source": [
        "isSubpalidrome('abcdefgas ag')"
      ],
      "metadata": {
        "colab": {
          "base_uri": "https://localhost:8080/",
          "height": 34
        },
        "id": "j1e48i7a5AlP",
        "outputId": "57c1f4de-82ae-4a1e-e403-81f015aec59b"
      },
      "execution_count": null,
      "outputs": [
        {
          "output_type": "execute_result",
          "data": {
            "text/plain": [
              "'Yes'"
            ],
            "application/vnd.google.colaboratory.intrinsic+json": {
              "type": "string"
            }
          },
          "metadata": {},
          "execution_count": 22
        }
      ]
    }
  ]
}